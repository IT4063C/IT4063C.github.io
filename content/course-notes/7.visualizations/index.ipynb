{
 "cells": [
  {
   "cell_type": "raw",
   "id": "46569ef6",
   "metadata": {},
   "source": [
    "---\n",
    "sidebar_position: 1\n",
    "title: Visualization tools\n",
    "draft: true\n",
    "---"
   ]
  },
  {
   "cell_type": "markdown",
   "id": "602c93a9",
   "metadata": {},
   "source": [
    "# Overview\n",
    "Data visualization is the process of transforming data into visual representations. It's a way to communicate information clearly and effectively.\n",
    "We've talked about the importance of data visualization in the previous section, we also talked about how visualizations can aid in the Exploratory Data Analysis. In this section, we'll talk about the tools that we can use to visualize data. \n",
    "\n",
    "- [Matplotlib](https://matplotlib.org/)\n",
    "- [Seaborn](https://seaborn.pydata.org/)\n",
    "- [Plotly](https://plotly.com/python)\n",
    "- [altair](https://altair-viz.github.io/)\n",
    "- [Plotnine](https://plotnine.readthedocs.io/en/stable/)\n",
    "- [Bokeh](https://bokeh.org/)\n",
    "  - https://towardsdatascience.com/beautiful-and-easy-plotting-in-python-pandas-bokeh-afa92d792167\n",
    "- [SweetViz](https://github.com/fbdesignpro/sweetviz)\n",
    "\n",
    "Exploratory vs Explanatory Data Analysis:\n",
    "* https://www.kdnuggets.com/2019/09/exploratory-data-analysis-vs-explanatory-data-analysis.html\n",
    "\n",
    "There are 2 main types of data visualization:\n",
    "- Univariate: where you have one variable\n",
    "- Bivariate: where you have 2 variables\n",
    "- Multivariate: where you have more than 2 variables\n",
    "\n",
    "\n",
    "https://courses.helsinki.fi/sites/default/files/course-material/4509270/IntroDS-03.pdf\n",
    "\n",
    "https://share.mindmanager.com/#publish/LNTmuYzLEKtQcVbSd1XU18immd4PsYbm20tlmSlj\n",
    "\n",
    "https://infogram.com/page/choose-the-right-chart-data-visualization\n",
    "\n",
    "https://plotnine.readthedocs.io/en/stable/\n",
    "\n",
    "https://courses.helsinki.fi/sites/default/files/course-material/4509270/IntroDS-03.pdf"
   ]
  }
 ],
 "metadata": {
  "kernelspec": {
   "display_name": "Python 3.10.6 64-bit ('3.10.6')",
   "language": "python",
   "name": "python3"
  },
  "language_info": {
   "name": "python",
   "version": "3.10.6"
  },
  "orig_nbformat": 4,
  "vscode": {
   "interpreter": {
    "hash": "10fe245ce14a6b5e53873e66284820de2d545b1b580c761eefbbaf4f96802d16"
   }
  }
 },
 "nbformat": 4,
 "nbformat_minor": 5
}
