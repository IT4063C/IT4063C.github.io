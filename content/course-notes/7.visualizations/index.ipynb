{
 "cells": [
  {
   "cell_type": "raw",
   "id": "46569ef6",
   "metadata": {},
   "source": [
    "---\n",
    "sidebar_position: 1\n",
    "title: Visualization\n",
    "draft: false\n",
    "---"
   ]
  },
  {
   "cell_type": "markdown",
   "id": "602c93a9",
   "metadata": {},
   "source": [
    "## Overview\n",
    "Data visualization is the process of transforming data into visual representations. It's a way to communicate information clearly and effectively.\n",
    "\n",
    "In a pervious module, we talked about how data visualization aids in the exploratory data analysis process. and how relying on statistics alone can be misleading. In this module, we'll learn how to choose the right visualization for the right data, how to use visualizations to communicate our findings.\n",
    "We will use different libraries to create visualizations. We will use `matplotlib` and `seaborn` to create static visualizations. We will use `plotly` to create interactive visualizations. We will use `folium` to create interactive maps.\n",
    "\n",
    "Links to the libraries:\n",
    "- [Matplotlib](https://matplotlib.org/)\n",
    "- [Seaborn](https://seaborn.pydata.org/)\n",
    "- [Plotly](https://plotly.com/python)\n",
    "- [altair](https://altair-viz.github.io/)\n",
    "- [Plotnine](https://plotnine.readthedocs.io/en/stable/)\n",
    "- [Bokeh](https://bokeh.org/)\n",
    "  - https://towardsdatascience.com/beautiful-and-easy-plotting-in-python-pandas-bokeh-afa92d792167\n",
    "- [SweetViz](https://github.com/fbdesignpro/sweetviz)\n",
    "- [Folium](https://python-visualization.github.io/folium/)"
   ]
  },
  {
   "cell_type": "markdown",
   "id": "b8d79b10",
   "metadata": {},
   "source": [
    "## Motivation\n",
    "* There's a distinction between Exploratory vs Explanatory Data Analysis:\n",
    "  * Exploratory: We're trying to understand the data, find patterns, and relationships.\n",
    "    * You try different visualizations and extract different insights from each one.\n",
    "  * Explanatory: We're trying to communicate our findings to others.\n",
    "* In your data analytics work, we will be doing both.\n",
    "* It is of crucial importance to choose the right visualization for the right data.\n",
    "\n",
    "## Choosing the right visualization\n",
    "* There are many different types of visualizations.\n",
    "* Depending on the data we have and the question we're trying to answer, we will need to choose a different visualization.\n",
    "* We can break down the charting message types into multiple types:\n",
    "  * Comparison charts\n",
    "  * Composition charts\n",
    "  * Distribution charts\n",
    "  * Relationship charts\n",
    "\n",
    "The following is a *thought starter* to choose a diagram for your data\n",
    "\n",
    "![Visualization Thought Starter](./assets//thought-starter.png)\n",
    "- You can [download the chart as a PDF from here](./assets//thought-starter.pdf)\n",
    "\n",
    "The best way to learn about this, is by practice. Not videos or tutorials. **Practice. Practice. Practice.**\n",
    "\n",
    "In addition to this week's assignment on visualizing data, I recommend you to go through the following resources:\n",
    "- [Data Visualization: A Practical Introduction](https://serialmentor.com/dataviz/)\n",
    "\n",
    "\n",
    "- The following [Visual Reference](https://www.sqlbi.com/wp-content/uploads/visuals-reference-sep2018-A3.pdf) is a great resource to help you choose a visualization.\n",
    "- Also, this is [](https://www.data-to-viz.com/) is a great resource to help you choose a visualization."
   ]
  }
 ],
 "metadata": {
  "kernelspec": {
   "display_name": "Python 3.10.6 ('IT4063C.github.io-Lk8id6Bb')",
   "language": "python",
   "name": "python3"
  },
  "language_info": {
   "name": "python",
   "version": "3.10.6"
  },
  "orig_nbformat": 4,
  "vscode": {
   "interpreter": {
    "hash": "21c32ae5e740470eb01fac041796b6fdafc902b7a33a499ec8a7bd68845268ce"
   }
  }
 },
 "nbformat": 4,
 "nbformat_minor": 5
}
