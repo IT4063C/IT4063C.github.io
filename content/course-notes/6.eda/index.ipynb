{
 "cells": [
  {
   "cell_type": "raw",
   "id": "167fc8ci",
   "metadata": {},
   "source": [
    "---\n",
    "title: Exploratory Data Analysis (EDA)\n",
    "sidebar_position: 1\n",
    "draft: true\n",
    "---"
   ]
  },
  {
   "cell_type": "markdown",
   "id": "167fc80b",
   "metadata": {},
   "source": [
    "## Topic plan:\n",
    "- What is Exploratory Analysis and how did it come about?\n",
    "- In the beginning there was hypothesis testing (confirmatory analysis)\n",
    "- John Tukey in 1961 found that there was a need for a kind of analysis where the hypotheses were suggested by the data\n",
    "- That's when comes Exploratory analysis\n",
    "\n",
    "a refresher on statistics\n",
    "\n",
    "\n",
    "The basic goals are:\n",
    "1. remove or correct erroneous data - data cleaning \n",
    "2. formulate initial hypotheses\n",
    "3. choose suitable analysis methods\n",
    "\n",
    "the process of coming up with a solution is not linear, it is an iterative, incremental process; you don't collect the data and then do \n",
    "\n",
    "Any suspicious data need to be investigated and corrected/\n",
    "removed\n",
    "• This can be quite tricky: is it an outlier or a key observation?\n",
    "\n",
    "After EDA, it may be easier to formulate hypotheses, and to\n",
    "make an informed choice of the analysis approach\n",
    "\n",
    "\n",
    "\n",
    "## Data Preparation\n",
    "\n",
    "## Data Wrangling and Cleaning\n",
    "\n",
    "> \"Happy families are all alike; every unhappy family is unhappy in its own way.\" - Leo Tolstoy\n",
    "\n",
    "### Characteristics of tidy data:\n",
    "- Every variable/attribute/feature forms a column\n",
    "- Every observation forms a row\n",
    "- Every type of observational unit forms a table\n",
    "\n",
    "### Characteristics of untidy data:\n",
    "$%@#$%^#@$%\n",
    "\n",
    "- a dataset that's tidy for one analysis can be untidy for another analysis.\n",
    "- \n",
    "\n"
   ]
  },
  {
   "cell_type": "markdown",
   "id": "b6aca00e",
   "metadata": {},
   "source": [
    "https://courses.helsinki.fi/sites/default/files/course-material/4509270/IntroDS-03.pdf\n",
    "\n",
    "- Discover and visualize the data to gain insights\n",
    "\n",
    "- Prepare the data and the project\n",
    "- Data cleaning\n",
    "  - Missing data\n",
    "  - Anomalies\n",
    "  - Duplicates\n",
    "  - Outliers\n",
    "- Using python to perform data cleaning\n",
    "\n",
    "\n",
    "- Diagnostic analysis\n",
    "  - Correlation vs Causality\n",
    "  - Hypothesis Testing\n",
    "\n",
    "\n",
    "Inferential Data Analysis?\n",
    "Correlations?\n",
    "- ![How I met your mother - Driving Gloves](https://i.gifer.com/MmOU.gif)\n",
    "\n",
    "\n",
    "#### Assignments\n",
    "\n",
    "- For a particular problem set by me, what kinds of questions would you ask? what data sources would you use?\n",
    "\n",
    "\n",
    "\n",
    "Important articles about statistics\n",
    "\n",
    "https://medium.com/@pralhad2481/5-steps-to-get-an-understanding-on-statistical-data-analysis-fdb925011fe6 (Links to an external site.)\n",
    "\n",
    "https://towardsdatascience.com/fundamentals-of-statistics-for-data-scientists-and-data-analysts-69d93a05aae7 (Links to an external site.)\n",
    "\n",
    "https://www.mastersindatascience.org/learning/statistics-data-science/\n"
   ]
  },
  {
   "cell_type": "markdown",
   "id": "747753a3",
   "metadata": {},
   "source": [
    "## Thoughts\n",
    "- Should data cleaning be a separate module or Visualizations"
   ]
  }
 ],
 "metadata": {
  "kernelspec": {
   "display_name": "Python 3.10.6 64-bit ('3.10.6')",
   "language": "python",
   "name": "python3"
  },
  "language_info": {
   "codemirror_mode": {
    "name": "ipython",
    "version": 3
   },
   "file_extension": ".py",
   "mimetype": "text/x-python",
   "name": "python",
   "nbconvert_exporter": "python",
   "pygments_lexer": "ipython3",
   "version": "3.10.6"
  },
  "orig_nbformat": 4,
  "vscode": {
   "interpreter": {
    "hash": "10fe245ce14a6b5e53873e66284820de2d545b1b580c761eefbbaf4f96802d16"
   }
  }
 },
 "nbformat": 4,
 "nbformat_minor": 5
}
