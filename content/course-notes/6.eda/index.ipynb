{
 "cells": [
  {
   "cell_type": "raw",
   "id": "167fc8ci",
   "metadata": {},
   "source": [
    "---\n",
    "title: Exploratory Data Analysis (EDA)\n",
    "sidebar_position: 1\n",
    "draft: true\n",
    "---"
   ]
  },
  {
   "cell_type": "markdown",
   "id": "167fc80b",
   "metadata": {},
   "source": [
    "## Should data cleaning be a separate module\n",
    "\n",
    "## Topic plan:\n",
    "- In the beginning there was hypothesis testing (confirmatory analysis)\n",
    "- John Tukey in 1961 found that there was a need for a kind of analysis where the hypotheses were suggested by the data\n",
    "- That's when comes Exploratory analysis\n",
    "\n",
    "\n",
    "\n",
    "## Data Preparation\n",
    "\n",
    "## Data Wrangling and Cleaning\n",
    "\n",
    "> \"Happy families are all alike; every unhappy family is unhappy in its own way.\" - Leo Tolstoy\n",
    "\n",
    "### Characteristics of tidy data:\n",
    "- Every variable/attribute/feature forms a column\n",
    "- Every observation forms a row\n",
    "- Every type of observational unit forms a table\n",
    "\n",
    "### Characteristics of untidy data:\n",
    "$%@#$%^#@$%\n",
    "\n",
    "- a dataset that's tidy for one analysis can be untidy for another analysis.\n",
    "- \n",
    "\n"
   ]
  },
  {
   "cell_type": "markdown",
   "id": "b6aca00e",
   "metadata": {},
   "source": [
    "https://courses.helsinki.fi/sites/default/files/course-material/4509270/IntroDS-03.pdf\n",
    "\n",
    "- Discover and visualize the data to gain insights\n",
    "\n",
    "- Prepare the data and the project\n",
    "- Data cleaning\n",
    "  - Missing data\n",
    "  - Anomalies\n",
    "  - Duplicates\n",
    "  - Outliers\n",
    "- Using python to perform data cleaning\n",
    "\n",
    "\n",
    "\n",
    "- Diagnostic analysis\n",
    "\n",
    "  - Linear Regression\n",
    "  - Logistic Regression\n",
    "  - Linear Regression with Multiple Variables\n",
    "  - Logistic Regression with Multiple Variables\n",
    "  - Classification\n",
    "  - Correlation vs Causality\n",
    "  - Hypothesis Testing\n",
    "\n",
    "\n",
    "Inferential Data Analysis?\n",
    "Correlations?\n",
    "- ![How I met your mother - Driving Gloves](https://i.gifer.com/MmOU.gif)\n",
    "\n",
    "\n",
    "#### Assignments\n",
    "\n",
    "- Discussion Board: what interests/project would you like to use data to analyze, what questions would you ask\n",
    "- Submit a Notebook on a set problem statements, what questions would you ask, what data sources can you get\n",
    "\n",
    "- For a particular problem set by me, what kinds of questions would you ask? what data sources would you use?\n",
    "\n",
    "  - Submit a Notebook on GitHub\n",
    "\n",
    "\n",
    "Important articles about statistics\n",
    "\n",
    "https://medium.com/@pralhad2481/5-steps-to-get-an-understanding-on-statistical-data-analysis-fdb925011fe6 (Links to an external site.)\n",
    "\n",
    "https://towardsdatascience.com/fundamentals-of-statistics-for-data-scientists-and-data-analysts-69d93a05aae7 (Links to an external site.)\n",
    "\n",
    "https://www.mastersindatascience.org/learning/statistics-data-science/\n"
   ]
  }
 ],
 "metadata": {
  "kernelspec": {
   "display_name": "Python 3.10.6 64-bit ('3.10.6')",
   "language": "python",
   "name": "python3"
  },
  "language_info": {
   "codemirror_mode": {
    "name": "ipython",
    "version": 3
   },
   "file_extension": ".py",
   "mimetype": "text/x-python",
   "name": "python",
   "nbconvert_exporter": "python",
   "pygments_lexer": "ipython3",
   "version": "3.10.6"
  },
  "orig_nbformat": 4,
  "vscode": {
   "interpreter": {
    "hash": "10fe245ce14a6b5e53873e66284820de2d545b1b580c761eefbbaf4f96802d16"
   }
  }
 },
 "nbformat": 4,
 "nbformat_minor": 5
}
