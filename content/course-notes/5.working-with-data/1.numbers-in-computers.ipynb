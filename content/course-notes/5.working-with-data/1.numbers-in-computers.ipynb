{
 "cells": [
  {
   "cell_type": "raw",
   "metadata": {},
   "source": [
    "---\n",
    "title: Numbers in Computers\n",
    "sidebar_position: 1\n",
    "draft: false\n",
    "---"
   ]
  },
  {
   "cell_type": "markdown",
   "metadata": {},
   "source": [
    "Understanding how computers represent and handles numbers under the hood will save you from many unexpected issues and trouble in your analysis works.\n",
    "\n",
    "Broadly speaking, computers have 2 ways to represent numbers: integers (for whole numbers) and floating point numbers (for decimal numbers).\n",
    "\n",
    "Regardless of the type, all numbers are stored in bits in the computer memory.\n",
    "\n",
    "> The following explanations are very good; and there’s no reason to try to write my own explanations when these exist.\n",
    "\n",
    "### Integers¶\n",
    "Integers, as a datatype, are wonderful. They are precise and pretty intuitive. However, they have a major pitfall: integer overflow and underflow. \n",
    "\n",
    "**Watch this video**\n",
    "<iframe width=\"560\" height=\"315\" src=\"https://www.youtube-nocookie.com/embed/vA0Rl6Ne5C8\" title=\"YouTube video player\" frameborder=\"0\" allow=\"accelerometer; autoplay; clipboard-write; encrypted-media; gyroscope; picture-in-picture\" allowfullscreen></iframe>\n",
    "\n",
    "### Floating Point Numbers¶\n",
    " Since Integers can only represent whole numbers, we need to use floating point numbers, and other could argue that they can't represent really big numbers. So how do we deal with decimals and really big numbers? Floating point numbers!\n",
    "\n",
    "To learn about floating point numbers, please:\n",
    "\n",
    "**Watch this video**\n",
    "<iframe width=\"560\" height=\"315\" src=\"https://www.youtube-nocookie.com/embed/pQs_wx8eoQ8\" title=\"YouTube video player\" frameborder=\"0\" allow=\"accelerometer; autoplay; clipboard-write; encrypted-media; gyroscope; picture-in-picture\" allowfullscreen></iframe>\n",
    "\n",
    "**and [Read this](https://ciechanow.ski/exposing-floating-point/)**\n",
    "\n",
    "------------------------------------------\n",
    "\n",
    "2 major problems you find when working on numbers in computers in general are \n",
    "- Integer overflow\n",
    "  - Leads to situations like adding two big numbers producing a negative number\n",
    "  - Leads to situations like subtracting two small big negative numbers producing a positive number.\n",
    "- Floating point precision.\n",
    "  - Computers can't keep track of very large numbers and very small ones at the same time (in the same calculation)\n",
    "  - Situations where very simple arithmetics gives weird results. \n",
    "\n",
    "For example:"
   ]
  },
  {
   "cell_type": "code",
   "execution_count": 7,
   "metadata": {},
   "outputs": [
    {
     "data": {
      "text/plain": [
       "0.30000000000000004"
      ]
     },
     "execution_count": 7,
     "metadata": {},
     "output_type": "execute_result"
    }
   ],
   "source": [
    "# Example 1: Imprecise arithmetics calculations\n",
    "\n",
    "0.1 + 0.1 + 0.1"
   ]
  },
  {
   "cell_type": "code",
   "execution_count": 8,
   "metadata": {},
   "outputs": [
    {
     "data": {
      "text/plain": [
       "False"
      ]
     },
     "execution_count": 8,
     "metadata": {},
     "output_type": "execute_result"
    }
   ],
   "source": [
    "# example 1.1: check if 0.1 + 0.1 + 0.1 EQUALS 0.3\n",
    "0.1 + 0.1 + 0.1 == 0.3"
   ]
  },
  {
   "cell_type": "code",
   "execution_count": 9,
   "metadata": {},
   "outputs": [
    {
     "name": "stdout",
     "output_type": "stream",
     "text": [
      "True\n"
     ]
    }
   ],
   "source": [
    "# Example 2: can't keep track of very big and very small numbers in the same calculations, leading to a lot of rounding errors\n",
    "print(2.32781**55 + 10 == 2.32781**55)"
   ]
  },
  {
   "cell_type": "markdown",
   "metadata": {},
   "source": [
    "The videos above, explains this problem perfectly."
   ]
  },
  {
   "cell_type": "markdown",
   "metadata": {},
   "source": [
    "## Number Problems\n",
    "### Problem 1: Integer Overflow\n",
    "> This is not an alternative to the videos above \n",
    "Consider the following: \n",
    "- You have 5 bits to represent a signed number (positive and negative).\n",
    "  0️⃣0️⃣0️⃣0️⃣0️⃣\n",
    "- The computer is storing this information as bits of 1's and 0's.\n",
    "- One of the available bits will be used to represent the sigh (0️⃣ for positive, 1️⃣ for negative)\n",
    "  - This means, you only have 4 bits to represent your number. Only the numbers from (-15) to (0) to (15)\n",
    "    - 1️⃣1️⃣1️⃣1️⃣1️⃣ (-15)\n",
    "    - 0️⃣0️⃣0️⃣0️⃣0️⃣ (0)\n",
    "    - 0️⃣1️⃣1️⃣1️⃣1️⃣ (15)\n",
    "- So if we tried to add up (15 + 15), what would we get.\n",
    "\n",
    "```\n",
    "  0️⃣1️⃣1️⃣1️⃣1️⃣\n",
    "+ 0️⃣1️⃣1️⃣1️⃣1️⃣\n",
    "------------\n",
    "  1️⃣1️⃣1️⃣1️⃣0️⃣ (which is -14)\n",
    "```"
   ]
  },
  {
   "cell_type": "markdown",
   "metadata": {},
   "source": [
    "Also what if try to add +15 + 1\n",
    "```\n",
    "  0️⃣1️⃣1️⃣1️⃣1️⃣\n",
    "+ 0️⃣0️⃣0️⃣0️⃣1️⃣\n",
    "------------\n",
    "  1️⃣0️⃣0️⃣0️⃣0️⃣ (which is -0; yes in computers, it's a thing)\n",
    "```"
   ]
  },
  {
   "cell_type": "markdown",
   "metadata": {},
   "source": [
    "A tradeoff was made when designing python to prioritize ease of use, over performance. The idea being that if anyone needed performance, they could go with languages like C at the time.Actually up until this time, Python is still the most performant programming language, and arguable the most complex.\n",
    "\n",
    "How did this manifest in python? You can't overflow integers (the problem described here, can't happen)\n",
    "\n",
    "This design decision is evident in how python deals with numbers.\n",
    "In computers, generally, values and Numbers are stored in memory using bits. For example, if you have 64-bit computer, you can store integer numbers are stored in 64 bits which means it can store numbers between $$0\\to 2^{63}-1 $$. One of those bits is where we store whether a number is positive or negative. \n",
    "\n",
    "Traditionally, if we had 2**63 and made it even bigger, it should overflow, and the calculation would yield a negative number."
   ]
  },
  {
   "cell_type": "code",
   "execution_count": 10,
   "metadata": {},
   "outputs": [
    {
     "name": "stdout",
     "output_type": "stream",
     "text": [
      "9223372036854775808\n"
     ]
    }
   ],
   "source": [
    "# In most modern computers, we have 64-bit processors. which means that I can have 64-bit integers.\n",
    "large_number  = 2**63\n",
    "print(large_number)"
   ]
  },
  {
   "cell_type": "code",
   "execution_count": 11,
   "metadata": {},
   "outputs": [
    {
     "name": "stdout",
     "output_type": "stream",
     "text": [
      "7237005577332262213973186563042994240829374041602535252466099000494570602496\n"
     ]
    }
   ],
   "source": [
    "# Making this very large number, even bigger should mean overflowing the 64 bits.\n",
    "very_large_number = large_number ** 4 # too large it can't fit in 64 bits\n",
    "print(very_large_number) # however, it doesn't overflow."
   ]
  },
  {
   "cell_type": "markdown",
   "metadata": {},
   "source": [
    "Python is convenient enough to allow for that to happen easily. \n",
    "\n",
    "This convenience comes at the expense of performance and speed. Simple integer computation isn’t just about computing the results anymore. , it stops to check whether you the result has been allocated enough bits to store the result, and, if not, it just adds more bits! So if you do math with an integer that won’t fit in 64 bits, it will just allocate more bits to the integer!\n",
    "\n",
    "This performance hit wouldn’t make python a good option for data analysis. Where speed is of the utmost importance and where we work with a huge datasets of data.\n",
    "\n",
    "This is why we use libraries like `Numpy` and `Pandas`. They make calculations a lot more faster and a lot more efficient.\n",
    "\n",
    "How fast? Let's try a (toy example) of adding numbers using vanilla python and then again using `Numpy`.\n",
    "We'll measure the speed of execution and the memory usage."
   ]
  },
  {
   "cell_type": "code",
   "execution_count": 12,
   "metadata": {},
   "outputs": [],
   "source": [
    "import numpy as np\n",
    "import pandas as pd\n",
    "import time # used to time the execution of the code\n",
    "from pympler import asizeof # used to measure the size of the data structures"
   ]
  },
  {
   "cell_type": "code",
   "execution_count": 13,
   "metadata": {},
   "outputs": [],
   "source": [
    "# Make a regular Python list\n",
    "# with all the numbers up to one hundred million\n",
    "\n",
    "# Remember `range` doesn't include the last number,\n",
    "# so I have to go up to 100_000_001 to actually get all\n",
    "# the numbers from 1 to 100_000_000\n",
    "\n",
    "one_to_one_hund_mil_list = list(range(1, 100_000_001))\n",
    "\n",
    "# Now make a numpy vector\n",
    "one_to_one_hund_mil_vector = np.arange(1, 100_000_001)"
   ]
  },
  {
   "cell_type": "code",
   "execution_count": 14,
   "metadata": {},
   "outputs": [
    {
     "name": "stdout",
     "output_type": "stream",
     "text": [
      " Python took 8.303 seconds\n"
     ]
    }
   ],
   "source": [
    "start = time.time()\n",
    "\n",
    "total = 0\n",
    "for i in one_to_one_hund_mil_list:\n",
    "    total = total + i\n",
    "    pass\n",
    "\n",
    "end = time.time()\n",
    "python_total = end - start\n",
    "print(f\" Python took {python_total:.3f} seconds\")"
   ]
  },
  {
   "cell_type": "code",
   "execution_count": 15,
   "metadata": {},
   "outputs": [
    {
     "name": "stdout",
     "output_type": "stream",
     "text": [
      "Numpy took 0.079 seconds\n"
     ]
    }
   ],
   "source": [
    "start = time.time()\n",
    "\n",
    "# Now we sum up all the numbers in the array\n",
    "# using the numpy `sum` function.\n",
    "np.sum(one_to_one_hund_mil_vector)\n",
    "\n",
    "end = time.time()\n",
    "numpy_total = end - start\n",
    "print(f\"Numpy took {numpy_total:.3f} seconds\")"
   ]
  },
  {
   "cell_type": "code",
   "execution_count": 16,
   "metadata": {},
   "outputs": [
    {
     "name": "stdout",
     "output_type": "stream",
     "text": [
      "Numpy was 104.6x faster!\n"
     ]
    }
   ],
   "source": [
    "print(f\"Numpy was {python_total / numpy_total:.1f}x faster!\")"
   ]
  },
  {
   "cell_type": "markdown",
   "metadata": {},
   "source": [
    "You could argue that a loop implementation isn't the most efficient. you're right it's not; `Numpy` would still be drastically more efficient though."
   ]
  },
  {
   "cell_type": "code",
   "execution_count": 17,
   "metadata": {},
   "outputs": [],
   "source": [
    "start = time.time()\n",
    "sum(one_to_one_hund_mil_list)\n",
    "end = time.time()\n",
    "\n",
    "sum_python_total = end - start"
   ]
  },
  {
   "cell_type": "code",
   "execution_count": 18,
   "metadata": {},
   "outputs": [
    {
     "name": "stdout",
     "output_type": "stream",
     "text": [
      "Numpy was 11.3x faster!\n"
     ]
    }
   ],
   "source": [
    "print(f\"Numpy was {sum_python_total / numpy_total:.1f}x faster!\")"
   ]
  },
  {
   "cell_type": "markdown",
   "metadata": {},
   "source": [
    "Even from a memory perspective"
   ]
  },
  {
   "cell_type": "code",
   "execution_count": 19,
   "metadata": {},
   "outputs": [],
   "source": [
    "# `asizeof.asizeof()` gets the size of an object\n",
    "# and all of its contents in bytes, so we'll\n",
    "# divide it's output by one billion to get\n",
    "# the value in gigabytes.\n",
    "\n",
    "list_size_in_gb = asizeof.asizeof(one_to_one_hund_mil_list) / 1_000_000_000\n",
    "vector_size_in_gb = asizeof.asizeof(one_to_one_hund_mil_vector) / 1_000_000_000"
   ]
  },
  {
   "cell_type": "code",
   "execution_count": 20,
   "metadata": {},
   "outputs": [
    {
     "name": "stdout",
     "output_type": "stream",
     "text": [
      "The Python list of numbers took up 4.00 GB of RAM\n",
      "The numpy vector of numbers took up 0.80 GB of RAM\n",
      "That means the Python list took up 5x as much space as the numpy vector!\n"
     ]
    }
   ],
   "source": [
    "print(f\"The Python list of numbers took up {list_size_in_gb:.2f} GB of RAM\")\n",
    "print(f\"The numpy vector of numbers took up {vector_size_in_gb:.2f} GB of RAM\")\n",
    "print(\n",
    "    f\"That means the Python list took up {list_size_in_gb/vector_size_in_gb:.0f}x \"\n",
    "    \"as much space as the numpy vector!\"\n",
    ")"
   ]
  },
  {
   "cell_type": "markdown",
   "metadata": {},
   "source": [
    "Everything is the world of software design and architecture is a tradeoff. You don’t get the efficiency with nothing to give. \n",
    "\n",
    "`Numpy` and `Pandas` you specify the type and size of the data you store and they don’t check for integer overflows."
   ]
  },
  {
   "cell_type": "code",
   "execution_count": 21,
   "metadata": {},
   "outputs": [
    {
     "data": {
      "text/plain": [
       "array([9223372036854775806, 9223372036854775807])"
      ]
     },
     "execution_count": 21,
     "metadata": {},
     "output_type": "execute_result"
    }
   ],
   "source": [
    "import numpy as np\n",
    "# 63 bits because the sign bit is used\n",
    "a = np.array([2**63-2, 2**63-1], dtype='int')\n",
    "a"
   ]
  },
  {
   "cell_type": "markdown",
   "metadata": {},
   "source": [
    "so if you try to increase the values by one "
   ]
  },
  {
   "cell_type": "code",
   "execution_count": 22,
   "metadata": {},
   "outputs": [
    {
     "data": {
      "text/plain": [
       "array([ 9223372036854775807, -9223372036854775808])"
      ]
     },
     "execution_count": 22,
     "metadata": {},
     "output_type": "execute_result"
    }
   ],
   "source": [
    "a + 1 # add 1 to every element in the overflow; you get a negative number (overflow)"
   ]
  },
  {
   "cell_type": "code",
   "execution_count": 23,
   "metadata": {},
   "outputs": [
    {
     "data": {
      "text/plain": [
       "array([-32768], dtype=int16)"
      ]
     },
     "execution_count": 23,
     "metadata": {},
     "output_type": "execute_result"
    }
   ],
   "source": [
    "x = np.array([2**15-1], dtype='int16') # 15 bits; 16th bit is the sign bit\n",
    "x + 1 # another overflow (negative number)"
   ]
  },
  {
   "cell_type": "code",
   "execution_count": 24,
   "metadata": {},
   "outputs": [
    {
     "data": {
      "text/plain": [
       "array([65535], dtype=uint16)"
      ]
     },
     "execution_count": 24,
     "metadata": {},
     "output_type": "execute_result"
    }
   ],
   "source": [
    "# The bits can also underflow (wrap around) with unsigned integers\n",
    "x = np.array([0], dtype='uint16')\n",
    "x - 1 # underflow"
   ]
  },
  {
   "cell_type": "markdown",
   "metadata": {},
   "source": [
    "### Problem 2: Floating Number Precision\n",
    "The other major problem you get with numbers is floating number precessions: you get this problem whether you’re using numpy or vanilla python.\n",
    "\n",
    "Because computers store numbers (even decimal ones uses bits). Can't stress enough to **watch the video**.\n",
    "<iframe width=\"560\" height=\"315\" src=\"https://www.youtube-nocookie.com/embed/pQs_wx8eoQ8\" title=\"YouTube video player\" frameborder=\"0\" allow=\"accelerometer; autoplay; clipboard-write; encrypted-media; gyroscope; picture-in-picture\" allowfullscreen></iframe>\n",
    "\n",
    "**and [Read this](https://ciechanow.ski/exposing-floating-point/)**\n",
    "\n",
    "If you have 64 bits integer, you get one bit for the sign, 52 bits for the mantissa  and 11 bits for the exponent.. the number decides where to place the decimal. An act that results in a tradeoff between the size and accuracy of your numbers that you store. \n",
    "\n",
    "\n",
    "A manifestation of this issue can be demonstrated by this.\n",
    "\n",
    "`0.1 + 0.1 + 0.1 == 0.3 # False`\n",
    "\n",
    "These numbers as you’d learn from the video aren’t represented on the computers line of numbers. Not accurately at least."
   ]
  },
  {
   "cell_type": "markdown",
   "metadata": {},
   "source": [
    "## About `Pandas`\n",
    "\n",
    "Pandas is the second package you’ll most commonly use in your analysis projects. It provides a flexible data structure to allow you to work with relational and labeled data sets.\n",
    "\n",
    "It allows for:\n",
    "\n",
    "- Easy search and filtering of the data\n",
    "- Easy handling for missing data (we’ll talk more about that later in the class)\n",
    "- Easily merge and join data sets\n",
    "- Easy reshaping of data\n",
    "- Easy handling of time series datasets: or data that span over a long time.\n",
    "\n",
    "The 2 most common data structures we’d use from pandas are:\n",
    "\n",
    "- Series\n",
    "- Data Frames\n",
    "\n",
    "### About Series\n",
    "\n",
    "A series is an ordered collection of values, generally of the same type. Kind of like a numpy array. (Actually not kind of .. It is). Pandas uses numpy arrays to build its series.\n",
    "\n",
    "Series are central to pandas because pandas was designed for statistics, and Series are a perfect way to collect lots of different observations of a variable.\n",
    "\n",
    "To illustrate, let me tell you about a week at the zoo I wish I owned. Here’s what attendance looked like at my zoo last week:\n",
    "\n",
    "| Day of Week | Attendees  |\n",
    "| ----------- | ---------- |\n",
    "| Monday      | 132 People |\n",
    "| Tuesday     | 94 People  |\n",
    "| Wednesday   | 112 People |\n",
    "| Thursday    | 84 People  |\n",
    "| Friday      | 254 People |\n",
    "| Saturday    | 322 People |\n",
    "| Sunday      | 472 People |\n",
    "\n",
    "To represent that using Pandas Series\n"
   ]
  },
  {
   "cell_type": "code",
   "execution_count": 25,
   "metadata": {},
   "outputs": [
    {
     "data": {
      "text/plain": [
       "Monday       132\n",
       "Tuesday       94\n",
       "Wednesday    112\n",
       "Thursday      84\n",
       "Friday       254\n",
       "Saturday     322\n",
       "Sunday       472\n",
       "dtype: int64"
      ]
     },
     "execution_count": 25,
     "metadata": {},
     "output_type": "execute_result"
    }
   ],
   "source": [
    "import pandas as pd\n",
    "\n",
    "attendance = pd.Series(\n",
    "  [132, 94, 112, 84, 254, 322, 472],\n",
    "  index=['Monday', 'Tuesday', 'Wednesday', 'Thursday', 'Friday', 'Saturday', 'Sunday'])\n",
    "attendance"
   ]
  },
  {
   "cell_type": "markdown",
   "metadata": {},
   "source": [
    "You can get the underlying numpy array by calling the values function. "
   ]
  },
  {
   "cell_type": "code",
   "execution_count": 26,
   "metadata": {},
   "outputs": [
    {
     "data": {
      "text/plain": [
       "array([132,  94, 112,  84, 254, 322, 472])"
      ]
     },
     "execution_count": 26,
     "metadata": {},
     "output_type": "execute_result"
    }
   ],
   "source": [
    "attendance.values"
   ]
  },
  {
   "cell_type": "markdown",
   "metadata": {},
   "source": [
    "This is good to know because every now and then you may find a tool that works with numpy arrays but not pandas. And when that happens, you now know how to pull out the numpy array underlying your Series and use it directly!\n",
    "\n",
    "Series also also allows you to have named indices for your elements in a series. "
   ]
  },
  {
   "cell_type": "code",
   "execution_count": 27,
   "metadata": {},
   "outputs": [
    {
     "data": {
      "text/plain": [
       "Index(['Monday', 'Tuesday', 'Wednesday', 'Thursday', 'Friday', 'Saturday',\n",
       "       'Sunday'],\n",
       "      dtype='object')"
      ]
     },
     "execution_count": 27,
     "metadata": {},
     "output_type": "execute_result"
    }
   ],
   "source": [
    "attendance.index"
   ]
  },
  {
   "cell_type": "markdown",
   "metadata": {},
   "source": [
    "It’s also augmented with additional features to improve your development workflow.\n",
    "\n",
    "You can also sort the days by the attendance"
   ]
  },
  {
   "cell_type": "code",
   "execution_count": 28,
   "metadata": {},
   "outputs": [
    {
     "data": {
      "text/plain": [
       "Thursday      84\n",
       "Tuesday       94\n",
       "Wednesday    112\n",
       "Monday       132\n",
       "Friday       254\n",
       "Saturday     322\n",
       "Sunday       472\n",
       "dtype: int64"
      ]
     },
     "execution_count": 28,
     "metadata": {},
     "output_type": "execute_result"
    }
   ],
   "source": [
    "attendance = attendance.sort_values()\n",
    "attendance"
   ]
  },
  {
   "cell_type": "markdown",
   "metadata": {},
   "source": [
    "You could also use Pandas to subset datasets using indices, logical expressions and predicates"
   ]
  },
  {
   "cell_type": "markdown",
   "metadata": {},
   "source": [
    "### About DataFrames\n",
    "A pandas data frame is a tabular data structure, a 2d array. It can do everything you’d generally do when a generalized series structure that allows for more than just 2 dimensions. \n",
    "\n",
    "\n",
    "The biggest difference here, is that we have more than one index, one for rows, and another for columns. "
   ]
  },
  {
   "cell_type": "code",
   "execution_count": 29,
   "metadata": {},
   "outputs": [
    {
     "data": {
      "text/html": [
       "<div>\n",
       "<style scoped>\n",
       "    .dataframe tbody tr th:only-of-type {\n",
       "        vertical-align: middle;\n",
       "    }\n",
       "\n",
       "    .dataframe tbody tr th {\n",
       "        vertical-align: top;\n",
       "    }\n",
       "\n",
       "    .dataframe thead th {\n",
       "        text-align: right;\n",
       "    }\n",
       "</style>\n",
       "<table border=\"1\" class=\"dataframe\">\n",
       "  <thead>\n",
       "    <tr style=\"text-align: right;\">\n",
       "      <th></th>\n",
       "      <th>animals</th>\n",
       "      <th>can_swim</th>\n",
       "      <th>has_fur</th>\n",
       "    </tr>\n",
       "  </thead>\n",
       "  <tbody>\n",
       "    <tr>\n",
       "      <th>0</th>\n",
       "      <td>dog</td>\n",
       "      <td>True</td>\n",
       "      <td>True</td>\n",
       "    </tr>\n",
       "    <tr>\n",
       "      <th>1</th>\n",
       "      <td>cat</td>\n",
       "      <td>False</td>\n",
       "      <td>True</td>\n",
       "    </tr>\n",
       "    <tr>\n",
       "      <th>2</th>\n",
       "      <td>bird</td>\n",
       "      <td>False</td>\n",
       "      <td>False</td>\n",
       "    </tr>\n",
       "    <tr>\n",
       "      <th>3</th>\n",
       "      <td>fish</td>\n",
       "      <td>True</td>\n",
       "      <td>False</td>\n",
       "    </tr>\n",
       "  </tbody>\n",
       "</table>\n",
       "</div>"
      ],
      "text/plain": [
       "  animals  can_swim  has_fur\n",
       "0     dog      True     True\n",
       "1     cat     False     True\n",
       "2    bird     False    False\n",
       "3    fish      True    False"
      ]
     },
     "execution_count": 29,
     "metadata": {},
     "output_type": "execute_result"
    }
   ],
   "source": [
    "df = pd.DataFrame({'animals': ['dog', 'cat', 'bird', 'fish'],\n",
    "                   'can_swim': [True, False, False, True],\n",
    "                   'has_fur': [True, True, False, False]})\n",
    "df"
   ]
  },
  {
   "cell_type": "markdown",
   "metadata": {},
   "source": [
    "We can also construct data frames from other sources: (csv files, excel spreadsheets, databases, ...)\n",
    "\n",
    "We'll see that in the next post"
   ]
  },
  {
   "cell_type": "markdown",
   "metadata": {},
   "source": []
  }
 ],
 "metadata": {
  "kernelspec": {
   "display_name": "Python 3.10.6 ('sandbox-tA432Ki4-py3.10')",
   "language": "python",
   "name": "python3"
  },
  "language_info": {
   "codemirror_mode": {
    "name": "ipython",
    "version": 3
   },
   "file_extension": ".py",
   "mimetype": "text/x-python",
   "name": "python",
   "nbconvert_exporter": "python",
   "pygments_lexer": "ipython3",
   "version": "3.10.6"
  },
  "orig_nbformat": 4,
  "vscode": {
   "interpreter": {
    "hash": "a04a4fcca299ed9762a4c0e337dcf2c6e9f7057ddfc257e86415b33d5521b87c"
   }
  }
 },
 "nbformat": 4,
 "nbformat_minor": 2
}
