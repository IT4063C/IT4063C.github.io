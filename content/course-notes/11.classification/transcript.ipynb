{
 "cells": [
  {
   "cell_type": "raw",
   "id": "46569ef6",
   "metadata": {},
   "source": [
    "---\n",
    "sidebar_position: 1\n",
    "title: Classification\n",
    "draft: true\n",
    "---"
   ]
  },
  {
   "cell_type": "markdown",
   "id": "05ed80f4",
   "metadata": {},
   "source": []
  }
 ],
 "metadata": {
  "kernelspec": {
   "display_name": "Python 3.10.6 ('IT4063C.github.io-cdKt1PoY')",
   "language": "python",
   "name": "python3"
  },
  "language_info": {
   "codemirror_mode": {
    "name": "ipython",
    "version": 3
   },
   "file_extension": ".py",
   "mimetype": "text/x-python",
   "name": "python",
   "nbconvert_exporter": "python",
   "pygments_lexer": "ipython3",
   "version": "3.10.6"
  },
  "orig_nbformat": 4,
  "vscode": {
   "interpreter": {
    "hash": "85d441e5e849a37908ad58ad6184fcdc7e8758f80aa8161dbfbced68d20c9c5c"
   }
  }
 },
 "nbformat": 4,
 "nbformat_minor": 5
}
