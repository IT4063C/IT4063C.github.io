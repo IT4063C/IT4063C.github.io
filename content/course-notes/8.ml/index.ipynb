{
 "cells": [
  {
   "cell_type": "raw",
   "id": "46569ef6",
   "metadata": {},
   "source": [
    "---\n",
    "sidebar_position: 1\n",
    "title: Machine Learning\n",
    "draft: true\n",
    "---"
   ]
  },
  {
   "cell_type": "markdown",
   "id": "ff639895",
   "metadata": {},
   "source": [
    "## What is Machine Learning (ML)?\n",
    "\n",
    "> A computer program is said to learn from Experience E with respect to some class of tasks T and performance measure P if its performance at tasks in T, as measured by P, improves with experience E.\n",
    "> \n",
    "> _Tom M. Chitchell_\n",
    "\n",
    "- **Experience E**: the data we feed to the algorithm and the algorithm's actions on that data\n",
    "- **Tasks T**: the tasks the algorithm is supposed to perform.\n",
    "  - OCR, image classification, spam detection, Medical Diagnosis by analyzing patient data and finding patterns, ...etc.\n",
    "- **Performance measure P**: the measure of the algorithm's performance and accuracy"
   ]
  },
  {
   "cell_type": "markdown",
   "id": "eabdb0e1",
   "metadata": {},
   "source": [
    "## Applications of ML"
   ]
  },
  {
   "cell_type": "markdown",
   "id": "e6a7569e",
   "metadata": {},
   "source": [
    "## Types of ML Systems:\n",
    "1. Supervision Types:\n",
    "  - Supervised Learning\n",
    "  - Semi-Supervised Learning\n",
    "  - Reinforcement Learning\n",
    "2. Batch vs. Online Learning:\n",
    "  - Batch Learning\n",
    "  - Online Learning\n",
    "3. Instance-Based vs Model-Based Learning\n",
    "  - Instance-Based Learning\n",
    "  - Model-Based Learning  \n"
   ]
  },
  {
   "cell_type": "markdown",
   "id": "26c9dec6",
   "metadata": {},
   "source": [
    "## Challenges of ML\n",
    "1. Insufficient Quantity of Training Data\n",
    "2. Nonrepresentative Training Data\n",
    "3. Poor-Quality Data\n",
    "4. Irrelevant Features\n",
    "5. Overfitting the Training Data\n",
    "6. Underfitting the Training Data"
   ]
  },
  {
   "cell_type": "markdown",
   "id": "1ddab09a",
   "metadata": {},
   "source": [
    "## Hands-on ML"
   ]
  },
  {
   "cell_type": "markdown",
   "id": "602c93a9",
   "metadata": {},
   "source": [
    "## From Hands-on Machine Learning with Scikit-Learn, Keras, and TensorFlow\n",
    "the main steps:\n",
    "1. Look at the Big Picture\n",
    "2. Get the data.\n",
    "3. Discover and Visualize the data data to gain insight\n",
    "4. Prepare the Data for Machine Learning Algorithms\n",
    "5. Select a model and train it.\n",
    "6. Fine Tune your model.\n",
    "7. Present your solution.\n",
    "8. Launch, monitor, and maintain your system.\n",
    "\n",
    "## Additional Links and Resources\n",
    "[Roadmap of mathematics for deep learning](https://towardsdatascience.com/the-roadmap-of-mathematics-for-deep-learning-357b3db8569b)\n",
    "\n",
    "\n",
    "\n",
    "- Diagnostic analysis\n",
    "\n",
    "  - Linear Regression\n",
    "  - Logistic Regression\n",
    "  - Linear Regression with Multiple Variables\n",
    "  - Logistic Regression with Multiple Variables\n",
    "  - Classification\n",
    "  - Correlation vs Causality\n",
    "  - Hypothesis Testing\n",
    "\n",
    "\n",
    "\n",
    "https://courses.helsinki.fi/sites/default/files/course-material/4509270/IntroDS-03.pdf\n",
    "\n",
    "https://share.mindmanager.com/#publish/LNTmuYzLEKtQcVbSd1XU18immd4PsYbm20tlmSlj\n",
    "\n",
    "https://plotnine.readthedocs.io/en/stable/\n",
    "\n",
    "Chapter 2 of the Hands-on ML\n",
    "\n",
    "GDP per capita vs Life Satisfaction - Linear Regression\n",
    "\n",
    "https://ourworldindata.org/grapher/gdp-vs-happiness?time=2020"
   ]
  },
  {
   "cell_type": "markdown",
   "id": "13b602b3",
   "metadata": {},
   "source": [
    "## References\n",
    "- [Hands-on Machine Learning with Scikit-Learn, Keras, and TensorFlow](https://www.oreilly.com/library/view/hands-on-machine-learning/9781492032632/)"
   ]
  }
 ],
 "metadata": {
  "kernelspec": {
   "display_name": "Python 3.10.6 64-bit ('3.10.6')",
   "language": "python",
   "name": "python3"
  },
  "language_info": {
   "name": "python",
   "version": "3.10.6"
  },
  "orig_nbformat": 4,
  "vscode": {
   "interpreter": {
    "hash": "10fe245ce14a6b5e53873e66284820de2d545b1b580c761eefbbaf4f96802d16"
   }
  }
 },
 "nbformat": 4,
 "nbformat_minor": 5
}
