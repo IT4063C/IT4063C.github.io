{
 "cells": [
  {
   "cell_type": "raw",
   "id": "46569ef6",
   "metadata": {},
   "source": [
    "---\n",
    "sidebar_position: 1\n",
    "title: Machine Learning\n",
    "draft: true\n",
    "---"
   ]
  },
  {
   "cell_type": "markdown",
   "id": "ff639895",
   "metadata": {},
   "source": [
    "## What is Machine Learning (ML)?\n",
    "As humans, we are able to learn and get better at doing things and performing tasks. We're born knowing almost nothing, and can do almost nothing for ourselves. But we learn, we try, we improve and optimize. and with experience we get better. Computers can do the same and that's what machine learning is about.\n",
    "\n",
    "Machine learning is a very powerful tool, and it's used in many different fields. It's used in the medical field, to help doctors diagnose patients, it's used in the financial field, to help banks detect fraud, it's used in the retail field, to help companies recommend products to customers, it's used in the manufacturing field, to help companies optimize their production lines, it's used in the transportation field, to help companies optimize their routes, it's used in the energy, in agriculture, in entertainment, and the list goes on and on and on. \n",
    "\n",
    "`<Data Science?>`\n",
    "\n",
    "Machine learning is the science of getting computers to act without being explicitly programmed to do so. It brings together the fields of statistics, algebra, , and computer science to build algorithms that can learn from data.\n",
    "\n",
    "> A computer program is said to learn from Experience E with respect to some class of tasks T and performance measure P if its performance at tasks in T, as measured by P, improves with experience E.\n",
    "> \n",
    "> _Tom M. Mitchell_\n",
    "\n",
    "- **Experience E**: the data we feed to the algorithm in conjunction with the algorithm's actions on that data\n",
    "- **Tasks T**: the tasks the algorithm is supposed to perform.\n",
    "  - OCR, image classification, spam detection, Medical Diagnosis by analyzing patient data and finding patterns, ...etc.\n",
    "- **Performance measure P**: the measure of the algorithm's performance and accuracy.\n",
    "  - Accuracy, Precision, Recall, F1-Score, ...etc.\n",
    "\n",
    "xxx\n",
    "If we take filtering spam emails as an example, we can define the following:\n",
    "- **Tasks T**: Filtering the spam emails.\n",
    "- **Experience E**: the emails we feed to the algorithm and whether users have flagged them as spam, in conjunction with the algorithm's actions on that data\n",
    "- **Performance measure P**: the ratio of emails that are correctly classified as spam or not spam.\n",
    "xxx\n",
    "\n",
    "Another great example, to build a self-driving car, we don't need to program it such that if you see a car don't crash into it. Actually even that statement without machine learning would be a lot more complex that that, because you need to programmatically describe what is \"another car\", what are all the possible shapes and sizes, and colors of a car. And then you need to program it to understand that if you see a car, you need to slow down, and if you see a pedestrian, you need to stop. and if you see a red-light stop, a green you move, unless there's a car or a pedestrian. and oh what is a pedestrian, we need to program what a pedestrian looks like. you need to define that programmatically.... `<fade>` and that's just one example of a single task. \n",
    "What machine learning allows us to do, is to just give the program a lot of data about how to drive, by installing a lot of cameras and sensors and actuators on a car and have someone drive it, the longer you drive this, the more scenarios you get into and collect data about, the better the algorithm would be. and once you have all of this data.  and it will learn from that data. and it will be able to drive itself.\n",
    "\n",
    "So when do we use Machine Learning? Let's talk about that in the next video."
   ]
  },
  {
   "cell_type": "markdown",
   "id": "959ce323",
   "metadata": {},
   "source": [
    "## Why use Machine Learning?\n",
    "> If the only tool you have is a hammer, you tend to see every problem as a nail.\n",
    ">\n",
    "> _The law of Instrument By Abraham Maslow_\n",
    "\n",
    "Obviously not every problem is a nail and so we need to know when it's appropriate to use machine learning.\n",
    "\n",
    "2 Factors to guide your decision here:\n",
    "- The problem's complexity\n",
    "- and/or the need for adaptivity\n",
    "\n",
    "### Tasks that are too complex to program\n",
    "* **Tasks performed by animals or humans**: There's a lot of things that living beings do routinely , yet our introspection of how we do them is not elaborate enough to extract a well defined steps to be able to program it. Speech recognition, understanding images and objects and shapes, and driving cars, playing chess. and quite like how we, humans, do those things, provided the right mindset (algorithm), the more data we're exposed to the better we get at doing them.\n",
    "* **Tasks Beyond Human Capability**: Things like analyzing very large and very complex data sets, finding patterns in millions od records, weather prediction, learning from the purchasing patterns of customers around the different events, holidays, seasons, ... We have a lot of data, but without tools like machine learning we wouldn't be able to extract the value from it.\n",
    "* The purchase patterns of customers around different events, holidays, seasons, ...etc.\n",
    "\n",
    "### Tasks that require adaptivity\n",
    "Programmed solutions are rigid, once the program is written and installed, it can't change. Machine learning algorithms are flexible, they can change and adapt to new data, new experiences, ... so on.\n",
    "Programs that would adapt to the changing nature of spam emails.\n",
    "If spammers realize that your program is not filtering out any email that has contains \"4 U\" in it, they would start sending emails with \"For U\", ...etc.\n",
    "Also in speech recognition, how can you program something to adapt to the different accents and dialects, and even the connotation of the language.\n",
    "\n",
    "All of this needs a human-like or near-human intelligence, and that's what machine learning is about.\n",
    "\n",
    "Within that context, you can see a lot of applications of machine learning.\n",
    "## Applications of ML\n",
    "- Analyzing images of products on a production line to detect defects and classify them automatically.\n",
    "- Detecting tumors in brain scans or body scans. Due to the complex nature of the data, we use a more advanced algorithm called Convolutional Neural Networks.\n",
    "- Creating a recommendation system for a website, to recommend products to users based on their previous purchases.\n",
    "- Segmenting customers based on their purchasing patterns, to create targeted marketing campaigns (clustering).\n",
    "- Representing high dimensional data in a lower dimensional space, to visualize it and understand it better (dimensionality reduction).\n",
    "- Forecasting and optimizing a company revenue, based on historical data (time series analysis).\n",
    "\n",
    "The list will go on and on and it will keep growing as we keep discovering new applications for machine learning.\n",
    "Because there are way too many applications of machine learning and way to many algorithms to cover in this course, we will only focus on a few of those, however, it is important to introduce some classifications we will focus on the most important ones, and the ones that are most commonly used in the industry."
   ]
  },
  {
   "cell_type": "markdown",
   "id": "e6a7569e",
   "metadata": {},
   "source": [
    "## Types of ML Systems:\n",
    "Learning, is very wide domain. and so machine learning has also branched out into many different subfields and subdomains.\n",
    "1. Supervision Types:\n",
    "  - Supervised Learning\n",
    "  - Unsupervised Learning\n",
    "  - Reinforcement Learning\n",
    "2. Batch vs. Online Learning:\n",
    "  - Batch Learning\n",
    "  - Online Learning\n",
    "3. Instance-Based vs Model-Based Learning\n",
    "  - Instance-Based Learning\n",
    "  - Model-Based Learning  \n"
   ]
  },
  {
   "cell_type": "markdown",
   "id": "26c9dec6",
   "metadata": {},
   "source": [
    "## Challenges of ML\n",
    "### Insufficient Quantity of Training Data\n",
    "The most important task a machine learning algorithm goes through is getting trained on the data. and so the more data you have, the better the algorithm will be. and so if you don't have enough data, you will end up with biased output or inaccurate predictions, or classifications or whatever it is you want to do.\n",
    "\n",
    "The quantity of data is a relative, and it depends on the complexity of the problem you're trying to solve. and so it's not always easy to know how much data you need. and so you need to experiment with different amounts of data and see how it affects the performance of your algorithm.\n",
    "However one factor that is the number of features in your data. and so if you have a lot of features, you need to have a lot of data to be able to train your algorithm to detect all the patterns and relationships between the different features.\n",
    "\n",
    "If we're building a prediction algorithm that will predict a house price based on location only, you would need less data then if you're predicting based on location, number of rooms, proximity to certain places, and so one. You need to have enough data for the algorithms to weight in the effect of each factor on the target value.\n",
    "\n",
    "### Irrelevant Features\n",
    "\n",
    "### Nonrepresentative Training Data\n",
    "\n",
    "### Overfitting the Training Data\n",
    "### Underfitting the Training Data"
   ]
  },
  {
   "cell_type": "markdown",
   "id": "1ddab09a",
   "metadata": {},
   "source": [
    "## Hands-on ML"
   ]
  },
  {
   "cell_type": "markdown",
   "id": "602c93a9",
   "metadata": {},
   "source": [
    "## From Hands-on Machine Learning with Scikit-Learn, Keras, and TensorFlow\n",
    "the main steps:\n",
    "1. Look at the Big Picture\n",
    "2. Get the data.\n",
    "3. Discover and Visualize the data data to gain insight\n",
    "4. Prepare the Data for Machine Learning Algorithms\n",
    "5. Select a model and train it.\n",
    "6. Fine Tune your model.\n",
    "7. Present your solution.\n",
    "8. Launch, monitor, and maintain your system.\n",
    "\n",
    "## Additional Links and Resources\n",
    "[Roadmap of mathematics for deep learning](https://towardsdatascience.com/the-roadmap-of-mathematics-for-deep-learning-357b3db8569b)\n",
    "\n",
    "\n",
    "\n",
    "- Diagnostic analysis\n",
    "\n",
    "  - Linear Regression\n",
    "  - Logistic Regression\n",
    "  - Linear Regression with Multiple Variables\n",
    "  - Logistic Regression with Multiple Variables\n",
    "  - Classification\n",
    "  - Correlation vs Causality\n",
    "  - Hypothesis Testing\n",
    "\n",
    "\n",
    "\n",
    "https://courses.helsinki.fi/sites/default/files/course-material/4509270/IntroDS-03.pdf\n",
    "\n",
    "https://share.mindmanager.com/#publish/LNTmuYzLEKtQcVbSd1XU18immd4PsYbm20tlmSlj\n",
    "\n",
    "https://plotnine.readthedocs.io/en/stable/\n",
    "\n",
    "Chapter 2 of the Hands-on ML\n",
    "\n",
    "GDP per capita vs Life Satisfaction - Linear Regression\n",
    "\n",
    "https://ourworldindata.org/grapher/gdp-vs-happiness?time=2020"
   ]
  },
  {
   "cell_type": "markdown",
   "id": "13b602b3",
   "metadata": {},
   "source": [
    "## References\n",
    "- [Hands-on Machine Learning with Scikit-Learn, Keras, and TensorFlow](https://www.oreilly.com/library/view/hands-on-machine-learning/9781492032632/)"
   ]
  }
 ],
 "metadata": {
  "kernelspec": {
   "display_name": "Python 3.10.6 64-bit ('3.10.6')",
   "language": "python",
   "name": "python3"
  },
  "language_info": {
   "name": "python",
   "version": "3.10.6"
  },
  "orig_nbformat": 4,
  "vscode": {
   "interpreter": {
    "hash": "10fe245ce14a6b5e53873e66284820de2d545b1b580c761eefbbaf4f96802d16"
   }
  }
 },
 "nbformat": 4,
 "nbformat_minor": 5
}
