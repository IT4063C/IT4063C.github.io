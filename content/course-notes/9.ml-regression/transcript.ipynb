{
 "cells": [
  {
   "cell_type": "raw",
   "id": "46569ef6",
   "metadata": {},
   "source": [
    "---\n",
    "sidebar_position: 1\n",
    "title: Regression - Transcript\n",
    "draft: true\n",
    "---"
   ]
  },
  {
   "cell_type": "markdown",
   "id": "f4c4524f",
   "metadata": {},
   "source": [
    "In this module, we'll\n",
    "# Machine Learning Process\n",
    "1. Define the problem\n",
    "2. Collect the data\n",
    "3. Prepare the data\n",
    "4. Evaluate the algorithms\n",
    "5. Improve the results\n",
    "6. Present the results\n",
    "\n",
    "- start with the types of ML problems and the types of ML algorithms\n",
    "- Frame the problem and look at the big picture\n",
    "  - are we trying to get an estimate for the price\n",
    "  - or just a category indicating (cheap, medium, expensive), in that case, accuracy is not important, and this could become a classification problem\n",
    "- selecting a performance measure\n",
    "  - RSME\n",
    "  - MAE\n",
    "  - both of theses are ways to measure the distance between two vectors (the vectors are the predictions and the labels)\n",
    "- introduce cost function\n",
    "- introduce the terminology and notations\n",
    "- Splitting the data into training and test sets\n",
    "- Computers don't generate truly random numbers, so we need to set the seed\n",
    "  - https://www.statisticshowto.com/random-seed-definition/#:~:text=Generator%20in%20Excel.-,What%20is%20a%20Random%20Seed%3F,Henkemans%20%26%20Lee%2C%202001).\n",
    "- Feature Scaling\n",
    "  - https://towardsdatascience.com/all-about-feature-scaling-bcc0ad75cb35\n",
    "\n",
    "- scikit-learn has:\n",
    "  - estimators\n",
    "  - transformers\n",
    "  - predictors\n",
    "  - They can be chained together using pipelines\n"
   ]
  },
  {
   "cell_type": "code",
   "execution_count": 1,
   "id": "8a5bd0b0",
   "metadata": {},
   "outputs": [
    {
     "ename": "ModuleNotFoundError",
     "evalue": "No module named 'sklearn'",
     "output_type": "error",
     "traceback": [
      "\u001b[0;31m---------------------------------------------------------------------------\u001b[0m",
      "\u001b[0;31mModuleNotFoundError\u001b[0m                       Traceback (most recent call last)",
      "Cell \u001b[0;32mIn [1], line 1\u001b[0m\n\u001b[0;32m----> 1\u001b[0m \u001b[39mfrom\u001b[39;00m \u001b[39msklearn\u001b[39;00m \u001b[39mimport\u001b[39;00m linear_model\n\u001b[1;32m      2\u001b[0m \u001b[39mimport\u001b[39;00m \u001b[39mpandas\u001b[39;00m \u001b[39mas\u001b[39;00m \u001b[39mpd\u001b[39;00m\n\u001b[1;32m      4\u001b[0m X \u001b[39m=\u001b[39m [[\u001b[39m0\u001b[39m, \u001b[39m0\u001b[39m], [\u001b[39m1\u001b[39m, \u001b[39m1\u001b[39m], [\u001b[39m2\u001b[39m, \u001b[39m2\u001b[39m]]\n",
      "\u001b[0;31mModuleNotFoundError\u001b[0m: No module named 'sklearn'"
     ]
    }
   ],
   "source": [
    "from sklearn import linear_model\n",
    "import pandas as pd\n",
    "\n",
    "X = [[0, 0], [1, 1], [2, 2]]\n",
    "y = [0, 1, 2]\n",
    "df = pd.DataFrame(X, columns=['x1', 'x2'])\n",
    "df['y'] = y\n",
    "display(df)\n",
    "\n",
    "reg = linear_model.LinearRegression()\n",
    "reg.fit(df[[\"x1\", \"x2\"]], df['y']).coef_"
   ]
  },
  {
   "cell_type": "code",
   "execution_count": null,
   "id": "775574b4",
   "metadata": {},
   "outputs": [
    {
     "data": {
      "text/html": [
       "<div>\n",
       "<style scoped>\n",
       "    .dataframe tbody tr th:only-of-type {\n",
       "        vertical-align: middle;\n",
       "    }\n",
       "\n",
       "    .dataframe tbody tr th {\n",
       "        vertical-align: top;\n",
       "    }\n",
       "\n",
       "    .dataframe thead th {\n",
       "        text-align: right;\n",
       "    }\n",
       "</style>\n",
       "<table border=\"1\" class=\"dataframe\">\n",
       "  <thead>\n",
       "    <tr style=\"text-align: right;\">\n",
       "      <th></th>\n",
       "      <th>age</th>\n",
       "      <th>sex</th>\n",
       "      <th>bmi</th>\n",
       "      <th>bp</th>\n",
       "      <th>s1</th>\n",
       "      <th>s2</th>\n",
       "      <th>s3</th>\n",
       "      <th>s4</th>\n",
       "      <th>s5</th>\n",
       "      <th>s6</th>\n",
       "      <th>target</th>\n",
       "    </tr>\n",
       "  </thead>\n",
       "  <tbody>\n",
       "    <tr>\n",
       "      <th>0</th>\n",
       "      <td>0.038076</td>\n",
       "      <td>0.050680</td>\n",
       "      <td>0.061696</td>\n",
       "      <td>0.021872</td>\n",
       "      <td>-0.044223</td>\n",
       "      <td>-0.034821</td>\n",
       "      <td>-0.043401</td>\n",
       "      <td>-0.002592</td>\n",
       "      <td>0.019907</td>\n",
       "      <td>-0.017646</td>\n",
       "      <td>151.0</td>\n",
       "    </tr>\n",
       "    <tr>\n",
       "      <th>1</th>\n",
       "      <td>-0.001882</td>\n",
       "      <td>-0.044642</td>\n",
       "      <td>-0.051474</td>\n",
       "      <td>-0.026328</td>\n",
       "      <td>-0.008449</td>\n",
       "      <td>-0.019163</td>\n",
       "      <td>0.074412</td>\n",
       "      <td>-0.039493</td>\n",
       "      <td>-0.068332</td>\n",
       "      <td>-0.092204</td>\n",
       "      <td>75.0</td>\n",
       "    </tr>\n",
       "    <tr>\n",
       "      <th>2</th>\n",
       "      <td>0.085299</td>\n",
       "      <td>0.050680</td>\n",
       "      <td>0.044451</td>\n",
       "      <td>-0.005670</td>\n",
       "      <td>-0.045599</td>\n",
       "      <td>-0.034194</td>\n",
       "      <td>-0.032356</td>\n",
       "      <td>-0.002592</td>\n",
       "      <td>0.002861</td>\n",
       "      <td>-0.025930</td>\n",
       "      <td>141.0</td>\n",
       "    </tr>\n",
       "    <tr>\n",
       "      <th>3</th>\n",
       "      <td>-0.089063</td>\n",
       "      <td>-0.044642</td>\n",
       "      <td>-0.011595</td>\n",
       "      <td>-0.036656</td>\n",
       "      <td>0.012191</td>\n",
       "      <td>0.024991</td>\n",
       "      <td>-0.036038</td>\n",
       "      <td>0.034309</td>\n",
       "      <td>0.022688</td>\n",
       "      <td>-0.009362</td>\n",
       "      <td>206.0</td>\n",
       "    </tr>\n",
       "    <tr>\n",
       "      <th>4</th>\n",
       "      <td>0.005383</td>\n",
       "      <td>-0.044642</td>\n",
       "      <td>-0.036385</td>\n",
       "      <td>0.021872</td>\n",
       "      <td>0.003935</td>\n",
       "      <td>0.015596</td>\n",
       "      <td>0.008142</td>\n",
       "      <td>-0.002592</td>\n",
       "      <td>-0.031988</td>\n",
       "      <td>-0.046641</td>\n",
       "      <td>135.0</td>\n",
       "    </tr>\n",
       "  </tbody>\n",
       "</table>\n",
       "</div>"
      ],
      "text/plain": [
       "        age       sex       bmi        bp        s1        s2        s3  \\\n",
       "0  0.038076  0.050680  0.061696  0.021872 -0.044223 -0.034821 -0.043401   \n",
       "1 -0.001882 -0.044642 -0.051474 -0.026328 -0.008449 -0.019163  0.074412   \n",
       "2  0.085299  0.050680  0.044451 -0.005670 -0.045599 -0.034194 -0.032356   \n",
       "3 -0.089063 -0.044642 -0.011595 -0.036656  0.012191  0.024991 -0.036038   \n",
       "4  0.005383 -0.044642 -0.036385  0.021872  0.003935  0.015596  0.008142   \n",
       "\n",
       "         s4        s5        s6  target  \n",
       "0 -0.002592  0.019907 -0.017646   151.0  \n",
       "1 -0.039493 -0.068332 -0.092204    75.0  \n",
       "2 -0.002592  0.002861 -0.025930   141.0  \n",
       "3  0.034309  0.022688 -0.009362   206.0  \n",
       "4 -0.002592 -0.031988 -0.046641   135.0  "
      ]
     },
     "execution_count": 2,
     "metadata": {},
     "output_type": "execute_result"
    }
   ],
   "source": [
    "from sklearn import datasets\n",
    "\n",
    "diabetes = datasets.load_diabetes(as_frame=True)\n",
    "diabetes.frame.head()\n",
    "\n",
    "# diabetes.DESCR"
   ]
  },
  {
   "cell_type": "code",
   "execution_count": null,
   "id": "227958ae",
   "metadata": {},
   "outputs": [
    {
     "name": "stdout",
     "output_type": "stream",
     "text": [
      "2844319735\n",
      "3718166540\n",
      "4294967295\n",
      "4294967296\n"
     ]
    }
   ],
   "source": [
    "from zlib import crc32\n",
    "import numpy as np\n",
    "\n",
    "def test_set_check(identifier, test_ratio):\n",
    "    return crc32(np.int64(identifier)) & 0xffffffff < test_ratio * 2**32\n",
    "\n",
    "print(crc32(np.int64('1')) & 0xffffffff)\n",
    "print(crc32(np.int64(4294967296)) & 0xffffffff)\n",
    "print(0xffffffff)\n",
    "print(2**32)"
   ]
  },
  {
   "cell_type": "markdown",
   "id": "dace320c",
   "metadata": {},
   "source": [
    "# Regression\n",
    "This week we'll talk about one supervised learning technique and algorithm. which is used to predict (continuous) values.\n",
    "it's a statistical tool for modeling the relationship between a dependent variable (the target) and one or more independent variables (explanatory variable).\n",
    "that is linear regression.\n",
    "\n",
    "we'll start with a simple linear regression model, and learn how the same model can be applied for multiple linear regression, and finally we'll talk about polynomial regression.\n",
    "\n",
    "here's the agenda for what we'll talk about in this module:\n",
    "## outline\n",
    "- introduction\n",
    "- notations\n",
    "- simple linear regression\n",
    "  - performance measure AKA cost function (RMSE)\n",
    "  - gradient descent\n",
    "- multiple linear regression\n",
    "- polynomial regression\n",
    "- linear regression with scikit-learn\n",
    "- effects of features on the model\n",
    "- Feature Engineering\n",
    "  - how to choose the features\n",
    "  - how to deal with categorical features (ordinal, nominal)\n",
    "\n",
    "\n"
   ]
  },
  {
   "cell_type": "markdown",
   "id": "91307588",
   "metadata": {},
   "source": [
    "## Module Overview\n",
    "We've talked about what machine learning is, the different problems it can help us solve, and the different types of machine learning algorithms. In this module, we'll talk about one of the supervised learning techniques, typically used for predicting numerical values. We'll start with a simple linear regression model, then we'll see how that model can be applied for multiple linear regression problems as well, and finally we'll talk about polynomial regression.\n",
    "\n",
    "Our agenda for this module is as follows:\n",
    "- Introduction: we'll introduce the problem of regression, what it means, what are the types of regression problems.\n",
    "- Notations: we'll introduce the terminology and notations we'll use throughout this module. These are notations that you'll find in most machine learning books and courses.\n",
    "- Linear Regression - how to train a model.\n",
    "  - Performance Measures and Cost Functions: this is what tells us how good our model is.\n",
    "  - Gradient Descent: this is the algorithm we'll use to train our model. it uses the information from the cost function to update your model incrementally.\n",
    "- Implement the model using scikit-learn\n",
    "- a bit on Feature Engineering\n",
    "  - how to evaluate your features\n",
    "  - how to deal with categorical features (ordinal, nominal)\n",
    "- we'll do a quick recap showing how we can build models using scikit-learn\n",
    "\n",
    "Let's get started."
   ]
  },
  {
   "cell_type": "markdown",
   "id": "d1b1a0eb",
   "metadata": {},
   "source": [
    "## Introduction: What is Regression? Types?\n",
    "Linear Regression and Polynomial Regression are supervised regression algorithms.\n",
    "\n",
    "Supervised meaning we use labeled data to train the model.\n",
    "Regression meaning we predict numerical values instead of categories of classes.\n",
    "\n",
    "Regression models finds relationships between one or more independent variables, or explanatory variables, and some target variable or dependent variable; as it it depends on the values of your features. The target variable is the value we're trying to predict.\n",
    "\n",
    "Depending on the shape of the model that would fit the data, we call the model either linear or polynomial. \n",
    "If it's simple enough that we can represent it by a straight line, or a plane, a surface we call it a linear model. If it's more complex, where it needs to represented by a curved line or surface we call it a polynomial model.\n",
    "\n",
    "Keep in mind, it's not always clear from the get-go whether a model is linear or polynomial. It's something we'll have to figure out as we go along.\n",
    "You experiment with different models, and different algorithms, and you'll see which one works best for your data, or performs best on your data.\n",
    "\n",
    "For linear regression, we have a simple linear regression model, and a multiple linear regression model. The simple linear regression model is used when we have one independent variable, and the multiple linear regression model is used when we have more than one independent variable.\n",
    "We can visualize the simple linear regression model as a straight line, and the multiple linear regression model up-to 2 variables as a plane, or a surface. it's a bit more difficult to visualize the multiple linear regression model with more than 2 variables. and at the point we just trust the math and the algorithms that we were able to generalize from the 2D case to the 3D case.\n",
    "\n",
    "Just so we can start with the end in mind, here's the desired outcome of regression models.\n",
    "\n",
    "Imagine, you have this dataset that shows 30 observation of years of education, seniority level, and and income\n"
   ]
  },
  {
   "cell_type": "code",
   "execution_count": 72,
   "id": "8aea0458",
   "metadata": {},
   "outputs": [
    {
     "data": {
      "text/html": [
       "<div>\n",
       "<style scoped>\n",
       "    .dataframe tbody tr th:only-of-type {\n",
       "        vertical-align: middle;\n",
       "    }\n",
       "\n",
       "    .dataframe tbody tr th {\n",
       "        vertical-align: top;\n",
       "    }\n",
       "\n",
       "    .dataframe thead th {\n",
       "        text-align: right;\n",
       "    }\n",
       "</style>\n",
       "<table border=\"1\" class=\"dataframe\">\n",
       "  <thead>\n",
       "    <tr style=\"text-align: right;\">\n",
       "      <th></th>\n",
       "      <th>Education</th>\n",
       "      <th>Seniority</th>\n",
       "      <th>Income</th>\n",
       "    </tr>\n",
       "  </thead>\n",
       "  <tbody>\n",
       "    <tr>\n",
       "      <th>0</th>\n",
       "      <td>21.586207</td>\n",
       "      <td>113.103448</td>\n",
       "      <td>99.917173</td>\n",
       "    </tr>\n",
       "    <tr>\n",
       "      <th>1</th>\n",
       "      <td>18.275862</td>\n",
       "      <td>119.310345</td>\n",
       "      <td>92.579135</td>\n",
       "    </tr>\n",
       "    <tr>\n",
       "      <th>2</th>\n",
       "      <td>12.068966</td>\n",
       "      <td>100.689655</td>\n",
       "      <td>34.678727</td>\n",
       "    </tr>\n",
       "    <tr>\n",
       "      <th>3</th>\n",
       "      <td>17.034483</td>\n",
       "      <td>187.586207</td>\n",
       "      <td>78.702806</td>\n",
       "    </tr>\n",
       "    <tr>\n",
       "      <th>4</th>\n",
       "      <td>19.931034</td>\n",
       "      <td>20.000000</td>\n",
       "      <td>68.009922</td>\n",
       "    </tr>\n",
       "    <tr>\n",
       "      <th>5</th>\n",
       "      <td>18.275862</td>\n",
       "      <td>26.206897</td>\n",
       "      <td>71.504485</td>\n",
       "    </tr>\n",
       "  </tbody>\n",
       "</table>\n",
       "</div>"
      ],
      "text/plain": [
       "   Education   Seniority     Income\n",
       "0  21.586207  113.103448  99.917173\n",
       "1  18.275862  119.310345  92.579135\n",
       "2  12.068966  100.689655  34.678727\n",
       "3  17.034483  187.586207  78.702806\n",
       "4  19.931034   20.000000  68.009922\n",
       "5  18.275862   26.206897  71.504485"
      ]
     },
     "execution_count": 72,
     "metadata": {},
     "output_type": "execute_result"
    }
   ],
   "source": [
    "# import csv file\n",
    "import pandas as pd\n",
    "\n",
    "income_df = pd.read_csv('data/income2.csv')\n",
    "income_df.head(6)"
   ]
  },
  {
   "cell_type": "markdown",
   "id": "7995a11c",
   "metadata": {},
   "source": [
    "If we EDA this data, we can see that there is a positive correlation between years of education and income, and a positive correlation between seniority level and income."
   ]
  },
  {
   "cell_type": "code",
   "execution_count": null,
   "id": "99ae6c9c",
   "metadata": {},
   "outputs": [
    {
     "data": {
      "image/png": "[encoded data removed]",
      "text/plain": [
       "<Figure size 640x480 with 2 Axes>"
      ]
     },
     "metadata": {},
     "output_type": "display_data"
    }
   ],
   "source": [
    "# Visualize the correlation matrix\n",
    "import seaborn as sns\n",
    "import matplotlib.pyplot as plt\n",
    "\n",
    "income_corr = income_df.corr()\n",
    "sns.heatmap(income_corr, annot=True, cmap='coolwarm')\n",
    "plt.show()"
   ]
  },
  {
   "cell_type": "markdown",
   "id": "4ec8e4f9",
   "metadata": {},
   "source": [
    "It's a quite strong correlation between education and income (0.9), and a slightly weaker correlation between seniority level and income (0.52).\n",
    "\n",
    "Which means we can create a single linear regression model the predicts income based on years of education. or a multiple linear regression that also includes the seniority level.\n",
    "\n",
    "let's visualize the data using a scatter plot. We can clearly see that there is a positive correlation between years of education and income. Linear Regression will allow us to find the best fit lin or best fit model that will allow us to predict the income of a person given their years of education."
   ]
  },
  {
   "cell_type": "code",
   "execution_count": null,
   "id": "06a3b9d8",
   "metadata": {},
   "outputs": [
    {
     "data": {
      "image/png": "[encoded data removed]",
      "text/plain": [
       "<Figure size 640x480 with 1 Axes>"
      ]
     },
     "metadata": {},
     "output_type": "display_data"
    }
   ],
   "source": [
    "# Visualize a scatter plot between income and education\n",
    "sns.scatterplot(x='Education', y='Income', data=income_df)\n",
    "plt.show()"
   ]
  },
  {
   "cell_type": "markdown",
   "id": "94cd17d7",
   "metadata": {},
   "source": [
    "But let's try to get, seniority level in the mix. Visualize it an 3D scatter plot."
   ]
  },
  {
   "cell_type": "code",
   "execution_count": null,
   "id": "8e6975d0",
   "metadata": {},
   "outputs": [
    {
     "data": {
      "image/png": "[encoded data removed]",
      "text/plain": [
       "<Figure size 500x500 with 1 Axes>"
      ]
     },
     "metadata": {},
     "output_type": "display_data"
    }
   ],
   "source": [
    "# visualize a 3d scatter plot between Education, Seniority, and Income using mpl_toolkits\n",
    "from mpl_toolkits.mplot3d import Axes3D\n",
    "\n",
    "fig = plt.figure(figsize=(5,5))\n",
    "ax = fig.add_subplot(111, projection='3d')\n",
    "ax.scatter(income_df['Education'], income_df['Seniority'], income_df['Income'])\n",
    "ax.set_xlabel('Education')\n",
    "ax.set_ylabel('Seniority')\n",
    "ax.set_zlabel('Income')\n",
    "plt.show()"
   ]
  },
  {
   "cell_type": "markdown",
   "id": "39ed3fac",
   "metadata": {},
   "source": [
    "ok we kind of see the relationship, but I think an interactive plot will be better. so let's recreate this using plotly."
   ]
  },
  {
   "cell_type": "code",
   "execution_count": 76,
   "id": "08959851",
   "metadata": {},
   "outputs": [
    {
     "data": {
      "application/vnd.plotly.v1+json": {
       "config": {
        "plotlyServerURL": "https://plot.ly"
       },
       "data": [
        {
         "hovertemplate": "Education=%{x}<br>Seniority=%{y}<br>Income=%{z}<extra></extra>",
         "legendgroup": "",
         "marker": {
          "color": "#636efa",
          "symbol": "circle"
         },
         "mode": "markers",
         "name": "",
         "scene": "scene",
         "showlegend": false,
         "type": "scatter3d",
         "x": [
          21.5862068965517,
          18.2758620689655,
          12.0689655172414,
          17.0344827586207,
          19.9310344827586,
          18.2758620689655,
          19.9310344827586,
          21.1724137931034,
          20.3448275862069,
          10,
          13.7241379310345,
          18.6896551724138,
          11.6551724137931,
          16.6206896551724,
          10,
          20.3448275862069,
          14.1379310344828,
          16.6206896551724,
          16.6206896551724,
          20.3448275862069,
          18.2758620689655,
          14.551724137931,
          17.448275862069,
          10.4137931034483,
          21.5862068965517,
          11.2413793103448,
          19.9310344827586,
          11.6551724137931,
          12.0689655172414,
          17.0344827586207
         ],
         "y": [
          113.103448275862,
          119.310344827586,
          100.689655172414,
          187.586206896552,
          20,
          26.2068965517241,
          150.344827586207,
          82.0689655172414,
          88.2758620689655,
          113.103448275862,
          51.0344827586207,
          144.137931034483,
          20,
          94.4827586206897,
          187.586206896552,
          94.4827586206897,
          20,
          44.8275862068966,
          175.172413793103,
          187.586206896552,
          100.689655172414,
          137.931034482759,
          94.4827586206897,
          32.4137931034483,
          20,
          44.8275862068966,
          168.965517241379,
          57.2413793103448,
          32.4137931034483,
          106.896551724138
         ],
         "z": [
          99.9171726114381,
          92.579134855529,
          34.6787271520874,
          78.7028062353695,
          68.0099216471551,
          71.5044853814318,
          87.9704669939115,
          79.8110298331255,
          90.00632710858,
          45.6555294997364,
          31.9138079371295,
          96.2829968022869,
          27.9825049000603,
          66.601792415137,
          41.5319924201478,
          89.00070081522,
          28.8163007592387,
          57.6816942573605,
          70.1050960424457,
          98.8340115435447,
          74.7046991976891,
          53.5321056283034,
          72.0789236655191,
          18.5706650327685,
          78.8057842852386,
          21.388561306174,
          90.8140351180409,
          22.6361626208955,
          17.613593041445,
          74.6109601985289
         ]
        }
       ],
       "layout": {
        "legend": {
         "tracegroupgap": 0
        },
        "margin": {
         "b": 0,
         "l": 0,
         "r": 0,
         "t": 0
        },
        "scene": {
         "domain": {
          "x": [
           0,
           1
          ],
          "y": [
           0,
           1
          ]
         },
         "xaxis": {
          "title": {
           "text": "Education"
          }
         },
         "yaxis": {
          "title": {
           "text": "Seniority"
          }
         },
         "zaxis": {
          "title": {
           "text": "Income"
          }
         }
        },
        "template": {
         "data": {
          "bar": [
           {
            "error_x": {
             "color": "#2a3f5f"
            },
            "error_y": {
             "color": "#2a3f5f"
            },
            "marker": {
             "line": {
              "color": "#E5ECF6",
              "width": 0.5
             },
             "pattern": {
              "fillmode": "overlay",
              "size": 10,
              "solidity": 0.2
             }
            },
            "type": "bar"
           }
          ],
          "barpolar": [
           {
            "marker": {
             "line": {
              "color": "#E5ECF6",
              "width": 0.5
             },
             "pattern": {
              "fillmode": "overlay",
              "size": 10,
              "solidity": 0.2
             }
            },
            "type": "barpolar"
           }
          ],
          "carpet": [
           {
            "aaxis": {
             "endlinecolor": "#2a3f5f",
             "gridcolor": "white",
             "linecolor": "white",
             "minorgridcolor": "white",
             "startlinecolor": "#2a3f5f"
            },
            "baxis": {
             "endlinecolor": "#2a3f5f",
             "gridcolor": "white",
             "linecolor": "white",
             "minorgridcolor": "white",
             "startlinecolor": "#2a3f5f"
            },
            "type": "carpet"
           }
          ],
          "choropleth": [
           {
            "colorbar": {
             "outlinewidth": 0,
             "ticks": ""
            },
            "type": "choropleth"
           }
          ],
          "contour": [
           {
            "colorbar": {
             "outlinewidth": 0,
             "ticks": ""
            },
            "colorscale": [
             [
              0,
              "#0d0887"
             ],
             [
              0.1111111111111111,
              "#46039f"
             ],
             [
              0.2222222222222222,
              "#7201a8"
             ],
             [
              0.3333333333333333,
              "#9c179e"
             ],
             [
              0.4444444444444444,
              "#bd3786"
             ],
             [
              0.5555555555555556,
              "#d8576b"
             ],
             [
              0.6666666666666666,
              "#ed7953"
             ],
             [
              0.7777777777777778,
              "#fb9f3a"
             ],
             [
              0.8888888888888888,
              "#fdca26"
             ],
             [
              1,
              "#f0f921"
             ]
            ],
            "type": "contour"
           }
          ],
          "contourcarpet": [
           {
            "colorbar": {
             "outlinewidth": 0,
             "ticks": ""
            },
            "type": "contourcarpet"
           }
          ],
          "heatmap": [
           {
            "colorbar": {
             "outlinewidth": 0,
             "ticks": ""
            },
            "colorscale": [
             [
              0,
              "#0d0887"
             ],
             [
              0.1111111111111111,
              "#46039f"
             ],
             [
              0.2222222222222222,
              "#7201a8"
             ],
             [
              0.3333333333333333,
              "#9c179e"
             ],
             [
              0.4444444444444444,
              "#bd3786"
             ],
             [
              0.5555555555555556,
              "#d8576b"
             ],
             [
              0.6666666666666666,
              "#ed7953"
             ],
             [
              0.7777777777777778,
              "#fb9f3a"
             ],
             [
              0.8888888888888888,
              "#fdca26"
             ],
             [
              1,
              "#f0f921"
             ]
            ],
            "type": "heatmap"
           }
          ],
          "heatmapgl": [
           {
            "colorbar": {
             "outlinewidth": 0,
             "ticks": ""
            },
            "colorscale": [
             [
              0,
              "#0d0887"
             ],
             [
              0.1111111111111111,
              "#46039f"
             ],
             [
              0.2222222222222222,
              "#7201a8"
             ],
             [
              0.3333333333333333,
              "#9c179e"
             ],
             [
              0.4444444444444444,
              "#bd3786"
             ],
             [
              0.5555555555555556,
              "#d8576b"
             ],
             [
              0.6666666666666666,
              "#ed7953"
             ],
             [
              0.7777777777777778,
              "#fb9f3a"
             ],
             [
              0.8888888888888888,
              "#fdca26"
             ],
             [
              1,
              "#f0f921"
             ]
            ],
            "type": "heatmapgl"
           }
          ],
          "histogram": [
           {
            "marker": {
             "pattern": {
              "fillmode": "overlay",
              "size": 10,
              "solidity": 0.2
             }
            },
            "type": "histogram"
           }
          ],
          "histogram2d": [
           {
            "colorbar": {
             "outlinewidth": 0,
             "ticks": ""
            },
            "colorscale": [
             [
              0,
              "#0d0887"
             ],
             [
              0.1111111111111111,
              "#46039f"
             ],
             [
              0.2222222222222222,
              "#7201a8"
             ],
             [
              0.3333333333333333,
              "#9c179e"
             ],
             [
              0.4444444444444444,
              "#bd3786"
             ],
             [
              0.5555555555555556,
              "#d8576b"
             ],
             [
              0.6666666666666666,
              "#ed7953"
             ],
             [
              0.7777777777777778,
              "#fb9f3a"
             ],
             [
              0.8888888888888888,
              "#fdca26"
             ],
             [
              1,
              "#f0f921"
             ]
            ],
            "type": "histogram2d"
           }
          ],
          "histogram2dcontour": [
           {
            "colorbar": {
             "outlinewidth": 0,
             "ticks": ""
            },
            "colorscale": [
             [
              0,
              "#0d0887"
             ],
             [
              0.1111111111111111,
              "#46039f"
             ],
             [
              0.2222222222222222,
              "#7201a8"
             ],
             [
              0.3333333333333333,
              "#9c179e"
             ],
             [
              0.4444444444444444,
              "#bd3786"
             ],
             [
              0.5555555555555556,
              "#d8576b"
             ],
             [
              0.6666666666666666,
              "#ed7953"
             ],
             [
              0.7777777777777778,
              "#fb9f3a"
             ],
             [
              0.8888888888888888,
              "#fdca26"
             ],
             [
              1,
              "#f0f921"
             ]
            ],
            "type": "histogram2dcontour"
           }
          ],
          "mesh3d": [
           {
            "colorbar": {
             "outlinewidth": 0,
             "ticks": ""
            },
            "type": "mesh3d"
           }
          ],
          "parcoords": [
           {
            "line": {
             "colorbar": {
              "outlinewidth": 0,
              "ticks": ""
             }
            },
            "type": "parcoords"
           }
          ],
          "pie": [
           {
            "automargin": true,
            "type": "pie"
           }
          ],
          "scatter": [
           {
            "fillpattern": {
             "fillmode": "overlay",
             "size": 10,
             "solidity": 0.2
            },
            "type": "scatter"
           }
          ],
          "scatter3d": [
           {
            "line": {
             "colorbar": {
              "outlinewidth": 0,
              "ticks": ""
             }
            },
            "marker": {
             "colorbar": {
              "outlinewidth": 0,
              "ticks": ""
             }
            },
            "type": "scatter3d"
           }
          ],
          "scattercarpet": [
           {
            "marker": {
             "colorbar": {
              "outlinewidth": 0,
              "ticks": ""
             }
            },
            "type": "scattercarpet"
           }
          ],
          "scattergeo": [
           {
            "marker": {
             "colorbar": {
              "outlinewidth": 0,
              "ticks": ""
             }
            },
            "type": "scattergeo"
           }
          ],
          "scattergl": [
           {
            "marker": {
             "colorbar": {
              "outlinewidth": 0,
              "ticks": ""
             }
            },
            "type": "scattergl"
           }
          ],
          "scattermapbox": [
           {
            "marker": {
             "colorbar": {
              "outlinewidth": 0,
              "ticks": ""
             }
            },
            "type": "scattermapbox"
           }
          ],
          "scatterpolar": [
           {
            "marker": {
             "colorbar": {
              "outlinewidth": 0,
              "ticks": ""
             }
            },
            "type": "scatterpolar"
           }
          ],
          "scatterpolargl": [
           {
            "marker": {
             "colorbar": {
              "outlinewidth": 0,
              "ticks": ""
             }
            },
            "type": "scatterpolargl"
           }
          ],
          "scatterternary": [
           {
            "marker": {
             "colorbar": {
              "outlinewidth": 0,
              "ticks": ""
             }
            },
            "type": "scatterternary"
           }
          ],
          "surface": [
           {
            "colorbar": {
             "outlinewidth": 0,
             "ticks": ""
            },
            "colorscale": [
             [
              0,
              "#0d0887"
             ],
             [
              0.1111111111111111,
              "#46039f"
             ],
             [
              0.2222222222222222,
              "#7201a8"
             ],
             [
              0.3333333333333333,
              "#9c179e"
             ],
             [
              0.4444444444444444,
              "#bd3786"
             ],
             [
              0.5555555555555556,
              "#d8576b"
             ],
             [
              0.6666666666666666,
              "#ed7953"
             ],
             [
              0.7777777777777778,
              "#fb9f3a"
             ],
             [
              0.8888888888888888,
              "#fdca26"
             ],
             [
              1,
              "#f0f921"
             ]
            ],
            "type": "surface"
           }
          ],
          "table": [
           {
            "cells": {
             "fill": {
              "color": "#EBF0F8"
             },
             "line": {
              "color": "white"
             }
            },
            "header": {
             "fill": {
              "color": "#C8D4E3"
             },
             "line": {
              "color": "white"
             }
            },
            "type": "table"
           }
          ]
         },
         "layout": {
          "annotationdefaults": {
           "arrowcolor": "#2a3f5f",
           "arrowhead": 0,
           "arrowwidth": 1
          },
          "autotypenumbers": "strict",
          "coloraxis": {
           "colorbar": {
            "outlinewidth": 0,
            "ticks": ""
           }
          },
          "colorscale": {
           "diverging": [
            [
             0,
             "#8e0152"
            ],
            [
             0.1,
             "#c51b7d"
            ],
            [
             0.2,
             "#de77ae"
            ],
            [
             0.3,
             "#f1b6da"
            ],
            [
             0.4,
             "#fde0ef"
            ],
            [
             0.5,
             "#f7f7f7"
            ],
            [
             0.6,
             "#e6f5d0"
            ],
            [
             0.7,
             "#b8e186"
            ],
            [
             0.8,
             "#7fbc41"
            ],
            [
             0.9,
             "#4d9221"
            ],
            [
             1,
             "#276419"
            ]
           ],
           "sequential": [
            [
             0,
             "#0d0887"
            ],
            [
             0.1111111111111111,
             "#46039f"
            ],
            [
             0.2222222222222222,
             "#7201a8"
            ],
            [
             0.3333333333333333,
             "#9c179e"
            ],
            [
             0.4444444444444444,
             "#bd3786"
            ],
            [
             0.5555555555555556,
             "#d8576b"
            ],
            [
             0.6666666666666666,
             "#ed7953"
            ],
            [
             0.7777777777777778,
             "#fb9f3a"
            ],
            [
             0.8888888888888888,
             "#fdca26"
            ],
            [
             1,
             "#f0f921"
            ]
           ],
           "sequentialminus": [
            [
             0,
             "#0d0887"
            ],
            [
             0.1111111111111111,
             "#46039f"
            ],
            [
             0.2222222222222222,
             "#7201a8"
            ],
            [
             0.3333333333333333,
             "#9c179e"
            ],
            [
             0.4444444444444444,
             "#bd3786"
            ],
            [
             0.5555555555555556,
             "#d8576b"
            ],
            [
             0.6666666666666666,
             "#ed7953"
            ],
            [
             0.7777777777777778,
             "#fb9f3a"
            ],
            [
             0.8888888888888888,
             "#fdca26"
            ],
            [
             1,
             "#f0f921"
            ]
           ]
          },
          "colorway": [
           "#636efa",
           "#EF553B",
           "#00cc96",
           "#ab63fa",
           "#FFA15A",
           "#19d3f3",
           "#FF6692",
           "#B6E880",
           "#FF97FF",
           "#FECB52"
          ],
          "font": {
           "color": "#2a3f5f"
          },
          "geo": {
           "bgcolor": "white",
           "lakecolor": "white",
           "landcolor": "#E5ECF6",
           "showlakes": true,
           "showland": true,
           "subunitcolor": "white"
          },
          "hoverlabel": {
           "align": "left"
          },
          "hovermode": "closest",
          "mapbox": {
           "style": "light"
          },
          "paper_bgcolor": "white",
          "plot_bgcolor": "#E5ECF6",
          "polar": {
           "angularaxis": {
            "gridcolor": "white",
            "linecolor": "white",
            "ticks": ""
           },
           "bgcolor": "#E5ECF6",
           "radialaxis": {
            "gridcolor": "white",
            "linecolor": "white",
            "ticks": ""
           }
          },
          "scene": {
           "xaxis": {
            "backgroundcolor": "#E5ECF6",
            "gridcolor": "white",
            "gridwidth": 2,
            "linecolor": "white",
            "showbackground": true,
            "ticks": "",
            "zerolinecolor": "white"
           },
           "yaxis": {
            "backgroundcolor": "#E5ECF6",
            "gridcolor": "white",
            "gridwidth": 2,
            "linecolor": "white",
            "showbackground": true,
            "ticks": "",
            "zerolinecolor": "white"
           },
           "zaxis": {
            "backgroundcolor": "#E5ECF6",
            "gridcolor": "white",
            "gridwidth": 2,
            "linecolor": "white",
            "showbackground": true,
            "ticks": "",
            "zerolinecolor": "white"
           }
          },
          "shapedefaults": {
           "line": {
            "color": "#2a3f5f"
           }
          },
          "ternary": {
           "aaxis": {
            "gridcolor": "white",
            "linecolor": "white",
            "ticks": ""
           },
           "baxis": {
            "gridcolor": "white",
            "linecolor": "white",
            "ticks": ""
           },
           "bgcolor": "#E5ECF6",
           "caxis": {
            "gridcolor": "white",
            "linecolor": "white",
            "ticks": ""
           }
          },
          "title": {
           "x": 0.05
          },
          "xaxis": {
           "automargin": true,
           "gridcolor": "white",
           "linecolor": "white",
           "ticks": "",
           "title": {
            "standoff": 15
           },
           "zerolinecolor": "white",
           "zerolinewidth": 2
          },
          "yaxis": {
           "automargin": true,
           "gridcolor": "white",
           "linecolor": "white",
           "ticks": "",
           "title": {
            "standoff": 15
           },
           "zerolinecolor": "white",
           "zerolinewidth": 2
          }
         }
        }
       }
      }
     },
     "metadata": {},
     "output_type": "display_data"
    }
   ],
   "source": [
    "# visualize a 3d scatter plot between Education, Seniority, and Income using plotly\n",
    "import plotly.express as px\n",
    "\n",
    "\n",
    "fig = px.scatter_3d(income_df, x='Education', y='Seniority', z='Income')\n",
    "fig.update_layout(margin=dict(l=0, r=0, b=0, t=0))\n",
    "fig.show()\n"
   ]
  },
  {
   "cell_type": "markdown",
   "id": "583b351d",
   "metadata": {},
   "source": [
    "![3d scatter plot](assets/3d-income.gif)"
   ]
  },
  {
   "cell_type": "markdown",
   "id": "e6928c57",
   "metadata": {},
   "source": [
    "- Look at the different relationships between the 3 variables.\n",
    "- visualize them on 2d scatter plots\n",
    "- show that a surface can cut through that.\n",
    "\n",
    "we can see that we can get a surface model that can cut through the data points, and this is the best fit model. Once we start using more than one variable as independent variables, or explanatory variables, that's multiple linear regression.\n",
    "\n",
    "Finding that line, finding that surface, finding that curve, that's the goal of regression models. once you have more than 2 independent variables, it's not easy to visualize the model, but the math will still hold.\n",
    "\n",
    "\n",
    "Now that we know what we want to achieve, let's talk about the model and its notation.\n",
    "\n",
    "See you in the next video.\n"
   ]
  },
  {
   "cell_type": "markdown",
   "id": "94fc4be5",
   "metadata": {},
   "source": [
    "## Model and Notations\n",
    "This is a very short video, but it's very important. \n",
    "It introduces the notations that you'll find in a lot of machine learning algorithms, and in other machine learning courses and books.\n",
    "so it's important to understand them.\n",
    "\n",
    "Before we talk about the model notation, let's talk about the data notations.\n",
    "\n",
    "Every dataset we work with has a number (m) of (records, observations, signals, instances, data point), these are all synonyms.\n",
    "Each of those observations ia a vector of (features, independent variables, explanatory variables, predictors, dimensions, attributes) (x) and a for labelled data, or data we use in supervised learning we also have a target (y). These are also called targets, dependent variables, or a responses, maybe classes, or a categories if it's a class.\n",
    "the number of features is (n). \n",
    "\n",
    "so for this dataset, we can say that:\n",
    "- we have 30 records, m = 30\n",
    "- we have 2 features, n = 2\n",
    "- features are years of education, and seniority level\n",
    "- target is income\n",
    "\n",
    "Now let's forget about machine learning for a second, and talk about something we all know from high school math, the equation of a line.\n",
    "\n",
    "$$y = mx + b$$\n",
    "\n",
    "where:\n",
    "- m: slope\n",
    "- c: y-intercept or the bias term, or the value of y when x = 0\n",
    "\n",
    "sounds familiar? if we you want to get the y value, you multiply the x value by the slope, and add the y-intercept."
   ]
  },
  {
   "cell_type": "code",
   "execution_count": 77,
   "id": "2c1b6b1a",
   "metadata": {},
   "outputs": [
    {
     "name": "stdout",
     "output_type": "stream",
     "text": [
      "[-5. -4. -3. -2. -1.  0.  1.  2.  3.  4.  5.]\n"
     ]
    }
   ],
   "source": [
    "import matplotlib.pyplot as plt\n",
    "import numpy as np\n",
    "\n",
    "x = np.linspace(-5, 5, 11)\n",
    "\n",
    "def plot_line(y, color):\n",
    "  y_ = eval(y)\n",
    "  plt.plot(x, y_, label=f'y={y}', marker='o', markersize=5, color=color)\n",
    "  plt.legend(loc='best')\n",
    "  plt.xlabel('x')\n",
    "  plt.ylabel('y')\n",
    "\n",
    "print(x)"
   ]
  },
  {
   "cell_type": "markdown",
   "id": "2b4024d0",
   "metadata": {},
   "source": [
    "so we are able to represent a line using those 2 parameters."
   ]
  },
  {
   "cell_type": "code",
   "execution_count": 82,
   "id": "a5074cf4",
   "metadata": {},
   "outputs": [
    {
     "data": {
      "image/png": "[encoded data removed]",
      "text/plain": [
       "<Figure size 640x480 with 1 Axes>"
      ]
     },
     "metadata": {},
     "output_type": "display_data"
    }
   ],
   "source": [
    "plot_line(y='x', color='red')\n",
    "# plot_line(y='3*x+5', color='blue')\n",
    "# plot_line(y='-2*x+4', color='green')\n",
    "# plot_line(y='2*x', color='purple')\n",
    "\n",
    "plt.grid()\n",
    "plt.show()"
   ]
  },
  {
   "cell_type": "markdown",
   "id": "18fd115f",
   "metadata": {},
   "source": [
    "ok so we mentioned for simple linear regression, the desired model, the desired outcome is to draw a line. so essentially, we're trying to figure out what the value of m and b are, so that we can draw a line that fits our data.\n",
    "\n",
    "it's the same formula but the notation is different. we say\n",
    "$$\\hat{y} = h(x) = \\theta_{0} + \\theta_{1}x$$\n",
    "\n",
    "where:\n",
    "- $\\hat{y}$: the predicted value, also called the hypothesis function $h(x)$\n",
    "- $\\theta_{0}$: the bias term, or the y-intercept\n",
    "- $\\theta_{1}$: the slope of the line\n",
    "\n",
    "it's as if the $\\theta_{0}$ was multiplied by $x^{0} = 1$\n",
    "\n",
    "ok but let's generalize that so we can use to represent a plane, or a surface.\n",
    "\n",
    "$$\\hat{y} = h(x) = \\theta_{0} + \\theta_{1}x_{1} + \\theta_{2}x_{2}$$\n",
    "\n",
    "this is as if x2 was the z-axis, and we're trying to draw a plane that satisfies the equation."
   ]
  },
  {
   "cell_type": "code",
   "execution_count": 88,
   "id": "77b779db",
   "metadata": {},
   "outputs": [
    {
     "data": {
      "image/png": "[encoded data removed]",
      "text/plain": [
       "<Figure size 640x480 with 1 Axes>"
      ]
     },
     "metadata": {},
     "output_type": "display_data"
    }
   ],
   "source": [
    "fig = plt.figure()\n",
    "\n",
    "ax = fig.add_subplot(111,projection='3d')\n",
    "\n",
    "x1, x2 = np.meshgrid(range(10), range(10))\n",
    "\n",
    "y_hat = (9 - x1 - x2)\n",
    "\n",
    "ax.plot_surface(x1, x2, y_hat, alpha=0.5)\n",
    "\n",
    "plt.show()"
   ]
  },
  {
   "cell_type": "markdown",
   "id": "10d94307",
   "metadata": {},
   "source": [
    "so that would be your multiple linear regression model. so the most generalized form of this equation is:\n",
    "\n",
    "$$\\hat{y} = h(x) = \\theta_{0} + \\theta_{1}x_{1} + \\theta_{2}x_{2} + ... + \\theta_{n}x_{n}$$\n",
    "\n",
    "or the vectorized form of this would be:\n",
    "\n",
    "$$\\hat{y} = h(x) = \\Theta^{T}X$$\n",
    "\n",
    "if you're not familiar with the vectorized form, don't worry about it. it's just a way to represent the same equation in a more compact way. Unless you're creating your own implementation of the algorithm, you don't need to worry about how all the math is done, but it's just important to understand how the model works, so you understand the results you're getting.\n",
    "\n",
    "so to summarize the notations:\n",
    "- $X$: the matrix of features, or the matrix of independent variables\n",
    "- $\\Theta$: the vector of parameters, or the vector of coefficients, the values we're adjusting to fit the model.\n",
    "- $\\hat{y}$: the predicted value, also called the hypothesis function $h(x)$\n",
    "\n",
    "now that we know the model, let's talk about how we can train the model. how we can find the best values for $\\Theta$."
   ]
  },
  {
   "cell_type": "markdown",
   "id": "5a3891b8",
   "metadata": {},
   "source": [
    "## Linear Regression - Performance Measure/Cost Function\n",
    "In simple linear regression, we aim to get a a line that can represent the data we have as best as possible. So we need to define what \"best\" means.\n",
    "why do we say that this line here is better than this line here?"
   ]
  },
  {
   "cell_type": "code",
   "execution_count": 95,
   "id": "6ecd53ee",
   "metadata": {},
   "outputs": [
    {
     "data": {
      "image/png": "[encoded data removed]",
      "text/plain": [
       "<Figure size 500x500 with 1 Axes>"
      ]
     },
     "metadata": {},
     "output_type": "display_data"
    }
   ],
   "source": [
    "# a pandas dataframe with 2 columns: x and y\n",
    "import pandas as pd\n",
    "import numpy as np\n",
    "import matplotlib.pyplot as plt\n",
    "\n",
    "x = [1, 1.5, 2.5, 3, 4]\n",
    "y = [1, 2.3, 2.1, 3, 2.9]\n",
    "\n",
    "df = pd.DataFrame({'x': x, 'y': y})\n",
    "# plot the data\n",
    "\n",
    "# Scatter plot of the dots\n",
    "f, ax = plt.subplots(figsize=(5,5))\n",
    "ax.scatter(df['x'], df['y'])\n",
    "\n",
    "# Plot an arbitrary line\n",
    "x = np.linspace(0, 4, 11)\n",
    "y_bad = 2.2+ -x\n",
    "y_good = 0.6*x + 0.5\n",
    "ax.plot(x,y_bad, label=f'y=2.25 - bad')\n",
    "ax.plot(x,y_good, label=f'y=2.25 - good')\n",
    "\n",
    "ax.grid(alpha=0.2)\n",
    "plt.show()"
   ]
  },
  {
   "cell_type": "markdown",
   "id": "6b9c6754",
   "metadata": {},
   "source": [
    "We also know that value of m or the slope is the change in y divided by the change in x. and the value of b is the y-intercept.\n",
    "$$y = \\frac{y_{2} - y_{1}}{x_{2} - x_{1}}x + b$$"
   ]
  },
  {
   "cell_type": "markdown",
   "id": "a1cef9f9",
   "metadata": {},
   "source": [
    "## Simple Linear Regression - Drawing lines and performance measure\n",
    "In this video, we'll talk about simple linear regression, which is a special case of multiple linear regression, where we're using a single feature to predict a single value.\n",
    "As we've mentioned before, the goal here is find the best fitting line that describes the relationship between the features and the target.\n",
    "\n",
    "Here obviously, this line better describes the relationship than this line.\n",
    "![linear regression: good and bad](./assets/linear-good-bad.png)\n",
    "\n",
    "but how do we find that line? from Algebra, we know that the formula for a line is:\n",
    "\n",
    "$$y = mx + c$$\n",
    "\n",
    "where:\n",
    "- m: slope\n",
    "- c: y-intercept\n",
    "\n"
   ]
  },
  {
   "cell_type": "code",
   "execution_count": null,
   "id": "a6d7a2d7",
   "metadata": {},
   "outputs": [],
   "source": [
    "import matplotlib.pyplot as plt\n",
    "import numpy as np\n",
    "\n",
    "x = np.linspace(-5, 5, 11)\n",
    "def plot_line(y, color):\n",
    "  y_ = eval(y)\n",
    "  plt.plot(x, y_, label=f'y={y}', marker='o', markersize=5, color=color)\n",
    "  plt.legend(loc='best')\n",
    "  plt.xlabel('x')\n",
    "  plt.ylabel('y')"
   ]
  },
  {
   "cell_type": "code",
   "execution_count": null,
   "id": "139b45c2",
   "metadata": {},
   "outputs": [
    {
     "data": {
      "image/png": "[encoded data removed]",
      "text/plain": [
       "<Figure size 640x480 with 1 Axes>"
      ]
     },
     "metadata": {},
     "output_type": "display_data"
    }
   ],
   "source": [
    "plot_line(y='x', color='red')\n",
    "plot_line(y='3*x+5', color='blue')\n",
    "# plot_line(y='0.5*x+4', color='green')\n",
    "# plot_line(y='2*x', color='purple')\n",
    "\n",
    "plt.grid()\n",
    "plt.show()\n",
    "\n"
   ]
  },
  {
   "cell_type": "markdown",
   "id": "1d0b98ec",
   "metadata": {},
   "source": [
    "and we can adjust the slope and the y-intercept to draw any line you want.\n",
    "\n",
    "and you may remember how you can find a line that passes through 2 points, using the following formula:\n",
    "\n",
    "$$y = \\frac{y_{2} - y_{1}}{x_{2} - x_{1}}x + b$$\n",
    "\n",
    "where:\n",
    "- b: y-intercept\n",
    "- the fraction is the slope\n",
    "\n",
    "but for this dataset, we can't just arbitrarily choose 2 points to draw a line. It may be close enough, but it wouldn't be the best fit line. \n",
    "Actually, how would you know that what you have is a good fit? For that we need to define a performance measure, or a cost function, that will allow us to evaluate the model's performance.\n",
    "\n",
    "Now there are many different performance measures, the most common of which is that we get the mean of the squared errors or residuals. \n",
    "What does that mean? well, we take the difference between the actual value and the predicted value, and we square it (so that we lose the negative sign). and we do that for all the data points, and we get the mean of those squared errors.\n",
    "\n",
    "$$\\frac{1}{m}\\sum_{i=1}^{m}(y_{i} - \\hat{y_{i}})^{2}$$\n",
    "\n",
    "\n",
    "Obviously, the smaller the mean of the squared errors, the better the model is. So we want to find the line that minimizes the mean of the squared errors.\n",
    "\n",
    "Let's see an example here.\n",
    "\n"
   ]
  },
  {
   "cell_type": "code",
   "execution_count": null,
   "id": "3d1a4f92",
   "metadata": {},
   "outputs": [],
   "source": [
    "# a pandas dataframe with 2 columns: x and y\n",
    "import pandas as pd\n",
    "import numpy as np\n",
    "\n",
    "x = [1, 1.5,2.5,3,4]\n",
    "y = [1, 2.3,2.1,3,2.9]\n",
    "\n",
    "df = pd.DataFrame({'x': x, 'y': y})"
   ]
  },
  {
   "cell_type": "markdown",
   "id": "63255250",
   "metadata": {},
   "source": [
    "The easiest way to do this, is to draw a line, any line, and then calculate the distance between the line and the data points. Then, we square the distance, and we sum all the squared distances, and then we take the square root of the sum. We call this the loss function, or the cost function. and we want to minimize this function."
   ]
  },
  {
   "cell_type": "code",
   "execution_count": null,
   "id": "51d2ae86",
   "metadata": {},
   "outputs": [
    {
     "data": {
      "image/png": "[encoded data removed]",
      "text/plain": [
       "<Figure size 500x500 with 1 Axes>"
      ]
     },
     "metadata": {},
     "output_type": "display_data"
    }
   ],
   "source": [
    "# plot the data\n",
    "import matplotlib.pyplot as plt\n",
    "\n",
    "# Scatter plot of the dots\n",
    "f, ax = plt.subplots(figsize=(5,5))\n",
    "ax.scatter(df['x'], df['y'])\n",
    "\n",
    "# Plot an arbitrary line\n",
    "x = np.linspace(0, 4, 11)\n",
    "y = 0*x + 2.2\n",
    "ax.plot(x,y, label=f'y=2.25')\n",
    "\n",
    "ax.grid(alpha=0.2)\n",
    "plt.show()"
   ]
  },
  {
   "cell_type": "code",
   "execution_count": null,
   "id": "0c6afa19",
   "metadata": {},
   "outputs": [
    {
     "data": {
      "image/png": "[encoded data removed]",
      "text/plain": [
       "<Figure size 500x500 with 1 Axes>"
      ]
     },
     "metadata": {},
     "output_type": "display_data"
    }
   ],
   "source": [
    "# plot the data\n",
    "import matplotlib.pyplot as plt\n",
    "\n",
    "# Scatter plot of the dots\n",
    "f, ax = plt.subplots(figsize=(5,5))\n",
    "ax.scatter(df['x'], df['y'])\n",
    "\n",
    "# Plot an arbitrary line\n",
    "x = np.linspace(0, 4, 11)\n",
    "y = 0*x + 2.2\n",
    "ax.plot(x,y, label=f'y=2.25')\n",
    "\n",
    "# Residuals\n",
    "ax.plot([1,1],[1, 2.2], color='red', linestyle='dotted', alpha=0.5)\n",
    "ax.text(1.1, 1.5, '1.2')\n",
    "ax.plot([1.5,1.5],[2.3, 2.2], color='red', linestyle='dotted', alpha=0.5)\n",
    "ax.text(1.6, 2.25, '-0.1')\n",
    "ax.plot([2.5,2.5],[2.1, 2.2], color='red', linestyle='dotted', alpha=0.5)\n",
    "ax.text(2.6, 2.12, '0.1')\n",
    "ax.plot([3,3],[3, 2.2], color='red', linestyle='dotted', alpha=0.5)\n",
    "ax.text(3.1, 2.4, '-0.8')\n",
    "ax.plot([4,4],[2.9, 2.2], color='red', linestyle='dotted', alpha=0.5)\n",
    "ax.text(4.1, 2.6, '-0.7')\n",
    "\n",
    "ax.grid(alpha=0.2)\n",
    "plt.show()"
   ]
  },
  {
   "cell_type": "code",
   "execution_count": null,
   "id": "0eb8d8f2",
   "metadata": {},
   "outputs": [
    {
     "data": {
      "image/png": "[encoded data removed]",
      "text/plain": [
       "<Figure size 500x500 with 1 Axes>"
      ]
     },
     "metadata": {},
     "output_type": "display_data"
    }
   ],
   "source": [
    "# plot the data\n",
    "import matplotlib.pyplot as plt\n",
    "\n",
    "f, ax = plt.subplots(figsize=(5,5))\n",
    "ax.scatter(df['x'], df['y'])\n",
    "\n",
    "x = np.linspace(0, 4, 11)\n",
    "y = 0*x + 2.2\n",
    "ax.plot(x,y, label=f'y=2.25')\n",
    "\n",
    "ax.plot([1,1],[1, 2.2], color='red', linestyle='dotted', alpha=0.5)\n",
    "ax.text(1.1, 1.5, '1.44')\n",
    "ax.plot([1.5,1.5],[2.3, 2.2], color='red', linestyle='dotted', alpha=0.5)\n",
    "ax.text(1.6, 2.25, '0.01')\n",
    "ax.plot([2.5,2.5],[2.1, 2.2], color='red', linestyle='dotted', alpha=0.5)\n",
    "ax.text(2.6, 2.12, '0.01')\n",
    "ax.plot([3,3],[3, 2.2], color='red', linestyle='dotted', alpha=0.5)\n",
    "ax.text(3.1, 2.4, '0.64')\n",
    "ax.plot([4,4],[2.9, 2.2], color='red', linestyle='dotted', alpha=0.5)\n",
    "ax.text(4.1, 2.6, '0.49')\n",
    "\n",
    "ax.text(2.5, 1.5, '∑ = 2.59', fontsize=20, color='red')\n",
    "\n",
    "ax.grid(alpha=0.2)\n",
    "plt.show()"
   ]
  },
  {
   "cell_type": "markdown",
   "id": "3bdcccfe",
   "metadata": {},
   "source": [
    "so again:\n",
    "- measure error\n",
    "- Square it\n",
    "- sum it\n",
    "\n",
    "\n",
    "Then we change the parameters, change the line, and you calculate the loss function again, and you keep doing this until you find the line that minimizes the loss function.\n",
    "\n",
    "![loss function](./assets/loss.png)\n",
    "\n",
    "\n",
    "so far so good, but how do we get this minimum in the loss?\n",
    "\n",
    "we use a formula called gradient descent. this function is used in many machine learning algorithms, not just linear regression. in a following optional video, I will talk about that.\n",
    "\n",
    "This process here for simple linear regression is exactly the same as the process for multiple linear regression, except that we have more than one feature, and we have more than one parameter."
   ]
  },
  {
   "cell_type": "markdown",
   "id": "a6dc97ff",
   "metadata": {},
   "source": []
  },
  {
   "cell_type": "markdown",
   "id": "13b9c95c",
   "metadata": {},
   "source": [
    "## Gradient Descent\n",
    "In this video, we'll talk about gradient descent, which is a very important algorithm in machine learning. It's used in many machine learning algorithms, not just linear regression.\n",
    "it's an optimization algorithm that helps us find the minimum of a function. In our case, we want to find the minimum of the loss function.\n",
    "\n",
    "supposed you're on a mountain, it's dark, it's foggy, and you can only feel the slope of the ground below your feet. A good strategy to get down, is that you feel the ground and move it in the direction of the steepest slope. That is exactly what the gradient descent does.\n",
    "\n",
    "For any of your feature coefficients, you start somewhere and then you calculate the gradient of the slope, and then you move in the direction of the gradient, and then you calculate the gradient again, and then you move in the direction of the gradient, and it keeps doing this until it reaches the minimum.\n",
    "\n",
    "$$\\Theta^{ next step} = \\Theta - \\eta . MSE(\\Theta) $$\n",
    "where:\n",
    "- theta: the feature coefficients\n",
    "- eta: the learning rate\n",
    "\n",
    "I'm presenting this formula in a vectorized form, but you can also write it in a loop form.\n",
    "I think going over the math behind this formula is a bit out of scope for this course, but I'll leave a link to a video that explains it in detail.\n",
    "\n",
    "anyway every coefficient is updated simultaneously, so you don't update one coefficient, and then update the other coefficient, and then update the other coefficient, and so on. you update all the coefficients simultaneously.\n",
    "\n",
    "everytime you update the coefficients, you calculate the cost function, and calculate the gradient, and you move in the direction of the gradient, and you keep doing this until you reach the minimum, a point where the gradient is zero (or very close to zero). a value where the update theta values doen't change.\n",
    "\n",
    "In a way, this very simple problem seems that it'll take a lot of coding to solve it, but thankfully, a library called scikit-learn has a class called LinearRegression that does all the heavy lifting for us. We'll talk about it in the next video."
   ]
  },
  {
   "cell_type": "markdown",
   "id": "01a9cd17",
   "metadata": {},
   "source": [
    "## Linear Regression in Scikit-Learn\n",
    "Talk is cheap, let's see some code.\n",
    "Thankfully, we won't need to do all of those calculations by hand, because scikit-learn has a class called LinearRegression that does all the heavy lifting for us.\n",
    "\n",
    "```python\n",
    "from sklearn.linear_model import LinearRegression\n",
    "model = LinearRegression()\n",
    "model.fit(df['x'], df['y'])\n",
    "```"
   ]
  },
  {
   "cell_type": "markdown",
   "id": "31321b15",
   "metadata": {},
   "source": [
    "# Polynomial Regression\n",
    "polynomial regression is a special case of multiple linear regression, where we're using polynomial features instead of linear features. as in the data is usually can't be described by a straight line or a plane, but by a curve, or a curved surface.\n",
    "\n",
    "Let me show that on a different dataset here"
   ]
  },
  {
   "cell_type": "code",
   "execution_count": null,
   "id": "166f732e",
   "metadata": {},
   "outputs": [],
   "source": [
    "income2_df = pd.read_csv('data/position_salaries.csv')\n",
    "income2_df\n",
    "sns.scatterplot(x='Level', y='Salary', data=income2_df)\n",
    "plt.show()"
   ]
  },
  {
   "cell_type": "markdown",
   "id": "dca4a49c",
   "metadata": {},
   "source": [
    "Obviously, this data can't be described by a straight line, but by a curve. So we can use polynomial features instead of linear features to describe this data."
   ]
  },
  {
   "cell_type": "markdown",
   "id": "97e37cbe",
   "metadata": {},
   "source": [
    "## Notes\n",
    "- feature scaling is important for gradient descent\n",
    "- explain how the algorithm works\n",
    "- data splitting\n",
    "- https://medium.com/@thaddeussegura/simple-linear-regression-in-200-words-eb0835324af5\n",
    "https://medium.com/@thaddeussegura/multiple-linear-regression-in-200-words-data-8bdbcef34436\n",
    "https://medium.com/@thaddeussegura/polynomial-regression-in-200-words-2b1f4f8b5c5a\n",
    "\n",
    "Finally we'll end the module with a complete end-to-end example of a machine learning project with all of its cleaning, preprocessing steps."
   ]
  }
 ],
 "metadata": {
  "kernelspec": {
   "display_name": "Python 3.10.6 ('IT4063C.github.io-Lk8id6Bb')",
   "language": "python",
   "name": "python3"
  },
  "language_info": {
   "codemirror_mode": {
    "name": "ipython",
    "version": 3
   },
   "file_extension": ".py",
   "mimetype": "text/x-python",
   "name": "python",
   "nbconvert_exporter": "python",
   "pygments_lexer": "ipython3",
   "version": "3.10.6"
  },
  "orig_nbformat": 4,
  "vscode": {
   "interpreter": {
    "hash": "21c32ae5e740470eb01fac041796b6fdafc902b7a33a499ec8a7bd68845268ce"
   }
  }
 },
 "nbformat": 4,
 "nbformat_minor": 5
}
